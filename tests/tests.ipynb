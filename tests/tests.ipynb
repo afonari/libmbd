{
 "cells": [
  {
   "cell_type": "code",
   "execution_count": 1,
   "metadata": {
    "collapsed": false
   },
   "outputs": [],
   "source": [
    "import sys\n",
    "sys.path.append('..')\n",
    "import pymbd\n",
    "from pymbd import mbd\n",
    "import numpy as np\n",
    "from itertools import chain\n",
    "import matplotlib.pyplot as plt\n",
    "%matplotlib inline"
   ]
  },
  {
   "cell_type": "code",
   "execution_count": 2,
   "metadata": {
    "collapsed": false
   },
   "outputs": [],
   "source": [
    "bohr = mbd.bohr"
   ]
  },
  {
   "cell_type": "code",
   "execution_count": 3,
   "metadata": {
    "collapsed": false
   },
   "outputs": [],
   "source": [
    "mbd.init_grid(50)"
   ]
  },
  {
   "cell_type": "code",
   "execution_count": 4,
   "metadata": {
    "collapsed": false
   },
   "outputs": [],
   "source": [
    "np.set_printoptions(suppress=True, linewidth=120)"
   ]
  },
  {
   "cell_type": "markdown",
   "metadata": {},
   "source": [
    "## Argon dimer"
   ]
  },
  {
   "cell_type": "code",
   "execution_count": 5,
   "metadata": {
    "collapsed": false
   },
   "outputs": [],
   "source": [
    "species = ['Ar', 'Ar']\n",
    "xyz = [(0., 0., 0.), (4., 0., 0.)]/bohr"
   ]
  },
  {
   "cell_type": "code",
   "execution_count": 6,
   "metadata": {
    "collapsed": false
   },
   "outputs": [],
   "source": [
    "alpha_0, C6, R_vdw = pymbd.get_free_atom_data(species)\n",
    "omega = mbd.omega_eff(C6, alpha_0)"
   ]
  },
  {
   "cell_type": "code",
   "execution_count": 7,
   "metadata": {
    "collapsed": false
   },
   "outputs": [
    {
     "data": {
      "text/plain": [
       "-0.00012237370437961914"
      ]
     },
     "execution_count": 7,
     "metadata": {},
     "output_type": "execute_result"
    }
   ],
   "source": [
    "mbd.get_single_mbd_energy('', 'fermi,dip', xyz, alpha_0, omega, r_vdw=R_vdw, beta=1., a=6.)[0]"
   ]
  },
  {
   "cell_type": "code",
   "execution_count": 8,
   "metadata": {
    "collapsed": false
   },
   "outputs": [
    {
     "data": {
      "text/plain": [
       "-0.00012237370433254997"
      ]
     },
     "execution_count": 8,
     "metadata": {},
     "output_type": "execute_result"
    }
   ],
   "source": [
    "mbd.get_single_rpa_energy('', 'fermi,dip', xyz, mbd.alpha_dynamic_ts_all('C', mbd.n_grid_omega, alpha_0, c6=C6),\n",
    "                       r_vdw=R_vdw, beta=1., a=6.)[0]"
   ]
  },
  {
   "cell_type": "code",
   "execution_count": 9,
   "metadata": {
    "collapsed": false
   },
   "outputs": [
    {
     "data": {
      "text/plain": [
       "-0.00012234680219387335"
      ]
     },
     "execution_count": 9,
     "metadata": {},
     "output_type": "execute_result"
    }
   ],
   "source": [
    "mbd.get_ts_energy('', 'fermi2', xyz, C6, alpha_0, r_vdw=R_vdw, s_r=1., d=6.)"
   ]
  },
  {
   "cell_type": "markdown",
   "metadata": {},
   "source": [
    "## Linear argon chain"
   ]
  },
  {
   "cell_type": "code",
   "execution_count": 10,
   "metadata": {
    "collapsed": false
   },
   "outputs": [],
   "source": [
    "species = ['Ar']\n",
    "xyz = [(0., 0., 0.)]/bohr\n",
    "uc = np.array([(4., 0., 0.), (0., 10., 0.), (0., 0., 10.)])/bohr\n",
    "mbd.param_vacuum_axis = (False, True, True)"
   ]
  },
  {
   "cell_type": "code",
   "execution_count": 11,
   "metadata": {
    "collapsed": false
   },
   "outputs": [],
   "source": [
    "alpha_0, C6, R_vdw = pymbd.get_free_atom_data(species)\n",
    "omega = mbd.omega_eff(C6, alpha_0)"
   ]
  },
  {
   "cell_type": "code",
   "execution_count": 12,
   "metadata": {
    "collapsed": false
   },
   "outputs": [],
   "source": [
    "k_grid = mbd.make_k_grid(mbd.make_g_grid(200, 1, 1), uc)"
   ]
  },
  {
   "cell_type": "code",
   "execution_count": 13,
   "metadata": {
    "collapsed": false
   },
   "outputs": [],
   "source": [
    "omegas = mbd.get_reciprocal_mbd_energy('REV', 'dip,gg', xyz, alpha_0, omega, k_grid, uc,   \n",
    "                                       r_vdw=R_vdw, beta=1., a=6.)[1]"
   ]
  },
  {
   "cell_type": "code",
   "execution_count": 14,
   "metadata": {
    "collapsed": false
   },
   "outputs": [
    {
     "data": {
      "text/plain": [
       "[<matplotlib.lines.Line2D at 0x1104f3898>,\n",
       " <matplotlib.lines.Line2D at 0x1104f3a58>,\n",
       " <matplotlib.lines.Line2D at 0x1104fd400>]"
      ]
     },
     "execution_count": 14,
     "metadata": {},
     "output_type": "execute_result"
    },
    {
     "data": {
      "image/png": "[encoded data removed]",
      "text/plain": [
       "<matplotlib.figure.Figure at 0x110419048>"
      ]
     },
     "metadata": {},
     "output_type": "display_data"
    }
   ],
   "source": [
    "plt.plot(*chain.from_iterable((*zip(*sorted(zip(k_grid[:, 0], omegas[:, i]))), 'b-') for i in range(omegas.shape[1])))"
   ]
  },
  {
   "cell_type": "code",
   "execution_count": 15,
   "metadata": {
    "collapsed": false
   },
   "outputs": [],
   "source": [
    "ns_kpt = [4, 8, 12, 20, 40, 80]\n",
    "enes_periodic = []\n",
    "for n_kpt in ns_kpt:\n",
    "    k_grid = mbd.make_k_grid(mbd.make_g_grid(n_kpt, 1, 1), uc)\n",
    "    ene = mbd.get_reciprocal_mbd_energy('R', 'fermi,dip', xyz, alpha_0, omega, k_grid, uc,\n",
    "                                      r_vdw=R_vdw, beta=1., a=6.)[0]\n",
    "    enes_periodic.append(ene)"
   ]
  },
  {
   "cell_type": "code",
   "execution_count": 16,
   "metadata": {
    "collapsed": false
   },
   "outputs": [],
   "source": [
    "ns_cell = [4, 8, 12, 20, 40, 80]\n",
    "enes_supercell = []\n",
    "for n_cell in ns_cell:\n",
    "    ene = mbd.get_supercell_mbd_energy('C', 'fermi,dip', xyz, alpha_0, omega, uc, (n_cell, 1, 1),\n",
    "                                       r_vdw=R_vdw, beta=1., a=6.)[0]\n",
    "    enes_supercell.append(ene)"
   ]
  },
  {
   "cell_type": "code",
   "execution_count": 17,
   "metadata": {
    "collapsed": false
   },
   "outputs": [
    {
     "data": {
      "text/plain": [
       "[<matplotlib.lines.Line2D at 0x110613b38>,\n",
       " <matplotlib.lines.Line2D at 0x110613cf8>]"
      ]
     },
     "execution_count": 17,
     "metadata": {},
     "output_type": "execute_result"
    },
    {
     "data": {
      "image/png": "[encoded data removed]",
      "text/plain": [
       "<matplotlib.figure.Figure at 0x1105159b0>"
      ]
     },
     "metadata": {},
     "output_type": "display_data"
    }
   ],
   "source": [
    "plt.plot(ns_cell, enes_supercell, 'b',\n",
    "         ns_kpt, enes_periodic, 'r')"
   ]
  },
  {
   "cell_type": "code",
   "execution_count": 18,
   "metadata": {
    "collapsed": false
   },
   "outputs": [
    {
     "data": {
      "text/plain": [
       "-0.00012831280408036967"
      ]
     },
     "execution_count": 18,
     "metadata": {},
     "output_type": "execute_result"
    }
   ],
   "source": [
    "mbd.get_ts_energy('C', 'fermi2', xyz, C6, alpha_0, r_vdw=R_vdw, s_r=1., d=6., unit_cell=uc)"
   ]
  },
  {
   "cell_type": "code",
   "execution_count": 19,
   "metadata": {
    "collapsed": false
   },
   "outputs": [
    {
     "data": {
      "text/plain": [
       "(-0.00012910197577742366, -0.00012910197602867545)"
      ]
     },
     "execution_count": 19,
     "metadata": {},
     "output_type": "execute_result"
    }
   ],
   "source": [
    "(enes_supercell[-1], enes_periodic[-1])"
   ]
  },
  {
   "cell_type": "code",
   "execution_count": 20,
   "metadata": {
    "collapsed": false
   },
   "outputs": [
    {
     "data": {
      "text/plain": [
       "-0.00012910197577742366"
      ]
     },
     "execution_count": 20,
     "metadata": {},
     "output_type": "execute_result"
    }
   ],
   "source": [
    "mbd.get_supercell_mbd_energy('C', 'fermi,dip', xyz, alpha_0, omega, uc, (80, 1, 1),\n",
    "                             r_vdw=R_vdw, beta=1., a=6.)[0]"
   ]
  },
  {
   "cell_type": "code",
   "execution_count": 21,
   "metadata": {
    "collapsed": false
   },
   "outputs": [
    {
     "data": {
      "text/plain": [
       "-0.0001291019749862587"
      ]
     },
     "execution_count": 21,
     "metadata": {},
     "output_type": "execute_result"
    }
   ],
   "source": [
    "mbd.get_supercell_mbd_energy('CQ', 'fermi,dip', xyz, alpha_0, omega, uc, (80, 1, 1),\n",
    "                             r_vdw=R_vdw, beta=1., a=6.)[0]"
   ]
  },
  {
   "cell_type": "code",
   "execution_count": 22,
   "metadata": {
    "collapsed": false
   },
   "outputs": [
    {
     "data": {
      "text/plain": [
       "-0.00012910197602867545"
      ]
     },
     "execution_count": 22,
     "metadata": {},
     "output_type": "execute_result"
    }
   ],
   "source": [
    "mbd.get_reciprocal_mbd_energy('R', 'fermi,dip', xyz, alpha_0, omega, k_grid, uc,\n",
    "                             r_vdw=R_vdw, beta=1., a=6.)[0]"
   ]
  },
  {
   "cell_type": "code",
   "execution_count": 23,
   "metadata": {
    "collapsed": false
   },
   "outputs": [],
   "source": [
    "# orders = mbd.get_reciprocal_mbd_energy('RQO', 'fermi,dip', xyz, alpha_0, omega, k_grid, uc,\n",
    "#                              r_vdw=R_vdw, beta=1., a=6.)[3]"
   ]
  },
  {
   "cell_type": "code",
   "execution_count": 24,
   "metadata": {
    "collapsed": false
   },
   "outputs": [],
   "source": [
    "# plt.plot(*chain.from_iterable((*zip(*sorted(zip(k_grid[:, 0], orders[:, i]))), 'b-') for i in range(omegas.shape[1])))"
   ]
  },
  {
   "cell_type": "markdown",
   "metadata": {},
   "source": [
    "## Linear argon chain (2 atoms in cell)"
   ]
  },
  {
   "cell_type": "code",
   "execution_count": 25,
   "metadata": {
    "collapsed": false
   },
   "outputs": [],
   "source": [
    "species = ['Ar', 'Ar']\n",
    "xyz = [(0., 0., 0.), (4., 0., 0.)]/bohr\n",
    "uc = np.array([(8., 0., 0.), (0., 10., 0.), (0., 0., 10.)])/bohr\n",
    "mbd.param_vacuum_axis = (False, True, True)"
   ]
  },
  {
   "cell_type": "code",
   "execution_count": 26,
   "metadata": {
    "collapsed": false
   },
   "outputs": [],
   "source": [
    "alpha_0, C6, R_vdw = pymbd.get_free_atom_data(species)\n",
    "omega = mbd.omega_eff(C6, alpha_0)"
   ]
  },
  {
   "cell_type": "code",
   "execution_count": 27,
   "metadata": {
    "collapsed": false
   },
   "outputs": [],
   "source": [
    "k_grid = mbd.make_k_grid(mbd.make_g_grid(200, 1, 1), uc)"
   ]
  },
  {
   "cell_type": "code",
   "execution_count": 28,
   "metadata": {
    "collapsed": false
   },
   "outputs": [],
   "source": [
    "omegas = mbd.get_reciprocal_mbd_energy('REV', 'fermi,dip', xyz, alpha_0, omega, k_grid, uc,\n",
    "                                       r_vdw=R_vdw, beta=1., a=6.)[1]"
   ]
  },
  {
   "cell_type": "code",
   "execution_count": 29,
   "metadata": {
    "collapsed": false
   },
   "outputs": [
    {
     "data": {
      "text/plain": [
       "[<matplotlib.lines.Line2D at 0x11078f898>,\n",
       " <matplotlib.lines.Line2D at 0x11078fa58>,\n",
       " <matplotlib.lines.Line2D at 0x110798400>,\n",
       " <matplotlib.lines.Line2D at 0x110798c18>,\n",
       " <matplotlib.lines.Line2D at 0x11079d470>,\n",
       " <matplotlib.lines.Line2D at 0x11079dc88>,\n",
       " <matplotlib.lines.Line2D at 0x1107a44e0>,\n",
       " <matplotlib.lines.Line2D at 0x1107a4cc0>,\n",
       " <matplotlib.lines.Line2D at 0x1107a9518>,\n",
       " <matplotlib.lines.Line2D at 0x1107a9d30>,\n",
       " <matplotlib.lines.Line2D at 0x1107ae588>,\n",
       " <matplotlib.lines.Line2D at 0x1107aeda0>]"
      ]
     },
     "execution_count": 29,
     "metadata": {},
     "output_type": "execute_result"
    },
    {
     "data": {
      "image/png": "[encoded data removed]",
      "text/plain": [
       "<matplotlib.figure.Figure at 0x1105dd5f8>"
      ]
     },
     "metadata": {},
     "output_type": "display_data"
    }
   ],
   "source": [
    "plt.plot(*chain.from_iterable((\n",
    "            *zip(*sorted(zip(k_grid[:, 0], omegas[:, i]))),\n",
    "            'b-',\n",
    "            *zip(*sorted(zip(k_grid[:, 0]+2*np.pi/8*bohr, omegas[:, i]))),\n",
    "            'b-'\n",
    "        ) for i in range(omegas.shape[1])))"
   ]
  },
  {
   "cell_type": "code",
   "execution_count": 30,
   "metadata": {
    "collapsed": false
   },
   "outputs": [],
   "source": [
    "ns_kpt = [4, 8, 12, 20, 40, 80]\n",
    "enes_periodic = []\n",
    "for n_kpt in ns_kpt:\n",
    "    k_grid = mbd.make_k_grid(mbd.make_g_grid(n_kpt, 1, 1), uc)\n",
    "    ene = mbd.get_reciprocal_mbd_energy('R', 'fermi,dip', xyz, alpha_0, omega, k_grid, uc,\n",
    "                                      r_vdw=R_vdw, beta=1., a=6.)[0]\n",
    "    enes_periodic.append(ene)"
   ]
  },
  {
   "cell_type": "code",
   "execution_count": 31,
   "metadata": {
    "collapsed": false
   },
   "outputs": [],
   "source": [
    "ns_cell = [4, 8, 12, 20, 40, 80]\n",
    "enes_supercell = []\n",
    "for n_cell in ns_cell:\n",
    "    ene = mbd.get_supercell_mbd_energy('C', 'fermi,dip', xyz, alpha_0, omega, uc, (n_cell, 1, 1),\n",
    "                                       r_vdw=R_vdw, beta=1., a=6.)[0]\n",
    "    enes_supercell.append(ene)"
   ]
  },
  {
   "cell_type": "code",
   "execution_count": 32,
   "metadata": {
    "collapsed": false
   },
   "outputs": [
    {
     "data": {
      "text/plain": [
       "[<matplotlib.lines.Line2D at 0x110a51908>,\n",
       " <matplotlib.lines.Line2D at 0x110a51ac8>]"
      ]
     },
     "execution_count": 32,
     "metadata": {},
     "output_type": "execute_result"
    },
    {
     "data": {
      "image/png": "[encoded data removed]",
      "text/plain": [
       "<matplotlib.figure.Figure at 0x11061af60>"
      ]
     },
     "metadata": {},
     "output_type": "display_data"
    }
   ],
   "source": [
    "plt.plot(ns_cell, enes_supercell, 'b',\n",
    "         ns_kpt, enes_periodic, 'r')"
   ]
  },
  {
   "cell_type": "code",
   "execution_count": 33,
   "metadata": {
    "collapsed": false
   },
   "outputs": [
    {
     "data": {
      "text/plain": [
       "-0.00012831280408036967"
      ]
     },
     "execution_count": 33,
     "metadata": {},
     "output_type": "execute_result"
    }
   ],
   "source": [
    "mbd.get_ts_energy('C', 'fermi2', xyz, C6, alpha_0, r_vdw=R_vdw, s_r=1., d=6., unit_cell=uc)/2"
   ]
  },
  {
   "cell_type": "code",
   "execution_count": 34,
   "metadata": {
    "collapsed": false
   },
   "outputs": [
    {
     "data": {
      "text/plain": [
       "(-0.00012910197563549276, -0.0001291019760286727)"
      ]
     },
     "execution_count": 34,
     "metadata": {},
     "output_type": "execute_result"
    }
   ],
   "source": [
    "(enes_supercell[-1]/2, enes_periodic[-1]/2)"
   ]
  },
  {
   "cell_type": "markdown",
   "metadata": {},
   "source": [
    "## Two parallel argon chains"
   ]
  },
  {
   "cell_type": "code",
   "execution_count": 35,
   "metadata": {
    "collapsed": true
   },
   "outputs": [],
   "source": [
    "species = ['Ar', 'Ar']\n",
    "xyz = [(0., 0., 0.), (0., 0., 4.)]/bohr\n",
    "uc = np.array([(4., 0., 0.), (0., 10., 0.), (0., 0., 10.)])/bohr\n",
    "mbd.param_vacuum_axis = (False, True, True)"
   ]
  },
  {
   "cell_type": "code",
   "execution_count": 36,
   "metadata": {
    "collapsed": false
   },
   "outputs": [],
   "source": [
    "alpha_0, C6, R_vdw = pymbd.get_free_atom_data(species)\n",
    "omega = mbd.omega_eff(C6, alpha_0)"
   ]
  },
  {
   "cell_type": "code",
   "execution_count": 37,
   "metadata": {
    "collapsed": false
   },
   "outputs": [],
   "source": [
    "k_grid = mbd.make_k_grid(mbd.make_g_grid(200, 1, 1), uc)"
   ]
  },
  {
   "cell_type": "code",
   "execution_count": 38,
   "metadata": {
    "collapsed": false
   },
   "outputs": [],
   "source": [
    "omegas = mbd.get_reciprocal_mbd_energy('REV', 'fermi,dip', xyz, alpha_0, omega, k_grid, uc,\n",
    "                                       r_vdw=R_vdw, beta=1., a=6.)[1]"
   ]
  },
  {
   "cell_type": "code",
   "execution_count": 39,
   "metadata": {
    "collapsed": false
   },
   "outputs": [
    {
     "data": {
      "text/plain": [
       "[<matplotlib.lines.Line2D at 0x110acc6d8>,\n",
       " <matplotlib.lines.Line2D at 0x110acc898>,\n",
       " <matplotlib.lines.Line2D at 0x110ad41d0>,\n",
       " <matplotlib.lines.Line2D at 0x110ad49e8>,\n",
       " <matplotlib.lines.Line2D at 0x110ada240>,\n",
       " <matplotlib.lines.Line2D at 0x110adaa58>]"
      ]
     },
     "execution_count": 39,
     "metadata": {},
     "output_type": "execute_result"
    },
    {
     "data": {
      "image/png": "[encoded data removed]",
      "text/plain": [
       "<matplotlib.figure.Figure at 0x110a61320>"
      ]
     },
     "metadata": {},
     "output_type": "display_data"
    }
   ],
   "source": [
    "plt.plot(*chain.from_iterable((*zip(*sorted(zip(k_grid[:, 0], omegas[:, i]))), 'b-') for i in range(omegas.shape[1])))"
   ]
  },
  {
   "cell_type": "code",
   "execution_count": 40,
   "metadata": {
    "collapsed": false
   },
   "outputs": [],
   "source": [
    "ns_kpt = [4, 8, 12, 20, 40, 80]\n",
    "enes_periodic = []\n",
    "for n_kpt in ns_kpt:\n",
    "    k_grid = mbd.make_k_grid(mbd.make_g_grid(n_kpt, 1, 1), uc)\n",
    "    ene = mbd.get_reciprocal_mbd_energy('R', 'fermi,dip', xyz, alpha_0, omega, k_grid, uc,\n",
    "                                      r_vdw=R_vdw, beta=1., a=6.)[0]\n",
    "    enes_periodic.append(ene)"
   ]
  },
  {
   "cell_type": "code",
   "execution_count": 41,
   "metadata": {
    "collapsed": false
   },
   "outputs": [],
   "source": [
    "ns_cell = [4, 8, 12, 20, 40, 80]\n",
    "enes_supercell = []\n",
    "for n_cell in ns_cell:\n",
    "    ene = mbd.get_supercell_mbd_energy('C', 'fermi,dip', xyz, alpha_0, omega, uc, (n_cell, 1, 1),\n",
    "                                       r_vdw=R_vdw, beta=1., a=6.)[0]\n",
    "    enes_supercell.append(ene)"
   ]
  },
  {
   "cell_type": "code",
   "execution_count": 42,
   "metadata": {
    "collapsed": false
   },
   "outputs": [
    {
     "data": {
      "text/plain": [
       "[<matplotlib.lines.Line2D at 0x110b27fd0>,\n",
       " <matplotlib.lines.Line2D at 0x110b2e1d0>]"
      ]
     },
     "execution_count": 42,
     "metadata": {},
     "output_type": "execute_result"
    },
    {
     "data": {
      "image/png": "[encoded data removed]",
      "text/plain": [
       "<matplotlib.figure.Figure at 0x110a9da20>"
      ]
     },
     "metadata": {},
     "output_type": "display_data"
    }
   ],
   "source": [
    "plt.plot(ns_cell, enes_supercell, 'b',\n",
    "         ns_kpt, enes_periodic, 'r')"
   ]
  },
  {
   "cell_type": "code",
   "execution_count": 43,
   "metadata": {
    "collapsed": false
   },
   "outputs": [
    {
     "data": {
      "text/plain": [
       "-0.0004638232304148753"
      ]
     },
     "execution_count": 43,
     "metadata": {},
     "output_type": "execute_result"
    }
   ],
   "source": [
    "mbd.get_ts_energy('C', 'fermi2', xyz, C6, alpha_0, r_vdw=R_vdw, s_r=1., d=6., unit_cell=uc)"
   ]
  },
  {
   "cell_type": "code",
   "execution_count": 44,
   "metadata": {
    "collapsed": false
   },
   "outputs": [
    {
     "data": {
      "text/plain": [
       "(-0.0004626876697461313, -0.00046268767025250956)"
      ]
     },
     "execution_count": 44,
     "metadata": {},
     "output_type": "execute_result"
    }
   ],
   "source": [
    "(enes_supercell[-1], enes_periodic[-1])"
   ]
  },
  {
   "cell_type": "markdown",
   "metadata": {},
   "source": [
    "## Argon crystal"
   ]
  },
  {
   "cell_type": "code",
   "execution_count": 45,
   "metadata": {
    "collapsed": false
   },
   "outputs": [],
   "source": [
    "species = ['Ar']\n",
    "xyz = [(0., 0., 0.)]/bohr\n",
    "uc = np.array([(4., 0., 0.), (0., 4., 0.), (0., 0., 4.)])/bohr\n",
    "mbd.param_vacuum_axis = (False, False, False)"
   ]
  },
  {
   "cell_type": "code",
   "execution_count": 46,
   "metadata": {
    "collapsed": false
   },
   "outputs": [],
   "source": [
    "alpha_0, C6, R_vdw = pymbd.get_free_atom_data(species)\n",
    "omega = mbd.omega_eff(C6, alpha_0)"
   ]
  },
  {
   "cell_type": "code",
   "execution_count": 47,
   "metadata": {
    "collapsed": false
   },
   "outputs": [],
   "source": [
    "k_grid = mbd.make_k_grid(mbd.make_g_grid(100, 1, 1), uc)"
   ]
  },
  {
   "cell_type": "code",
   "execution_count": 48,
   "metadata": {
    "collapsed": false
   },
   "outputs": [],
   "source": [
    "omegas = mbd.get_reciprocal_mbd_energy('REV', 'fermi,dip', xyz, alpha_0, omega, k_grid, uc,\n",
    "                                       r_vdw=R_vdw, beta=1., a=6.)[1]"
   ]
  },
  {
   "cell_type": "code",
   "execution_count": 49,
   "metadata": {
    "collapsed": false
   },
   "outputs": [
    {
     "data": {
      "text/plain": [
       "[<matplotlib.lines.Line2D at 0x110c32400>,\n",
       " <matplotlib.lines.Line2D at 0x110c325c0>,\n",
       " <matplotlib.lines.Line2D at 0x110c32f28>]"
      ]
     },
     "execution_count": 49,
     "metadata": {},
     "output_type": "execute_result"
    },
    {
     "data": {
      "image/png": "[encoded data removed]",
      "text/plain": [
       "<matplotlib.figure.Figure at 0x1105c8588>"
      ]
     },
     "metadata": {},
     "output_type": "display_data"
    }
   ],
   "source": [
    "plt.plot(*chain.from_iterable((*zip(*sorted(zip(k_grid[:, 0], omegas[:, i]))), 'b-') for i in range(omegas.shape[1])))"
   ]
  },
  {
   "cell_type": "code",
   "execution_count": 50,
   "metadata": {
    "collapsed": false
   },
   "outputs": [],
   "source": [
    "ns_kpt = [3, 4, 5, 6, 7, 8]\n",
    "enes_periodic = []\n",
    "for n_kpt in ns_kpt:\n",
    "    k_grid = mbd.make_k_grid(mbd.make_g_grid(n_kpt, n_kpt, n_kpt), uc)+0.01\n",
    "    ene = mbd.get_reciprocal_mbd_energy('R', 'fermi,dip', xyz, alpha_0, omega, k_grid, uc,\n",
    "                                      r_vdw=R_vdw, beta=1., a=6.)[0]\n",
    "    enes_periodic.append(ene)"
   ]
  },
  {
   "cell_type": "code",
   "execution_count": 51,
   "metadata": {
    "collapsed": false
   },
   "outputs": [],
   "source": [
    "ns_cell = [3, 4, 5, 6, 7]\n",
    "enes_supercell = []\n",
    "for n_cell in ns_cell:\n",
    "    ene = mbd.get_supercell_mbd_energy('C', 'fermi,dip', xyz, alpha_0, omega, uc, (n_cell, n_cell, n_cell),\n",
    "                                       r_vdw=R_vdw, beta=1., a=6.)[0]\n",
    "    enes_supercell.append(ene)"
   ]
  },
  {
   "cell_type": "code",
   "execution_count": 52,
   "metadata": {
    "collapsed": false
   },
   "outputs": [
    {
     "data": {
      "text/plain": [
       "[<matplotlib.lines.Line2D at 0x11199da58>,\n",
       " <matplotlib.lines.Line2D at 0x11199dc18>]"
      ]
     },
     "execution_count": 52,
     "metadata": {},
     "output_type": "execute_result"
    },
    {
     "data": {
      "image/png": "[encoded data removed]",
      "text/plain": [
       "<matplotlib.figure.Figure at 0x110bf8128>"
      ]
     },
     "metadata": {},
     "output_type": "display_data"
    }
   ],
   "source": [
    "plt.plot(ns_cell, enes_supercell, 'b',\n",
    "         ns_kpt, enes_periodic, 'r')"
   ]
  },
  {
   "cell_type": "code",
   "execution_count": 53,
   "metadata": {
    "collapsed": true
   },
   "outputs": [],
   "source": [
    "k_grid = mbd.make_k_grid(mbd.make_g_grid(5, 5, 5), uc)+0.01"
   ]
  },
  {
   "cell_type": "code",
   "execution_count": 54,
   "metadata": {
    "collapsed": false
   },
   "outputs": [
    {
     "data": {
      "text/plain": [
       "-0.0007571292369630357"
      ]
     },
     "execution_count": 54,
     "metadata": {},
     "output_type": "execute_result"
    }
   ],
   "source": [
    "mbd.get_ts_energy('C', 'fermi2', xyz, C6, alpha_0, r_vdw=R_vdw, s_r=1., d=6., unit_cell=uc)"
   ]
  },
  {
   "cell_type": "markdown",
   "metadata": {},
   "source": [
    "## Graphene"
   ]
  },
  {
   "cell_type": "code",
   "execution_count": 55,
   "metadata": {
    "collapsed": true
   },
   "outputs": [],
   "source": [
    "species = ['C', 'C']\n",
    "xyz = [(0., 0., 0.), (2.46000413, 1.42034734, 0.)]/bohr\n",
    "uc = np.array([\n",
    "    (2.45999892, 0.00000000, 0.00000000),\n",
    "    (1.22999946, 2.13042155, 0.00000000),\n",
    "    (0.00000000, 0.00000000, 100.00000000)])/bohr\n",
    "mbd.param_vacuum_axis = (False, False, True)"
   ]
  },
  {
   "cell_type": "code",
   "execution_count": 56,
   "metadata": {
    "collapsed": false
   },
   "outputs": [],
   "source": [
    "alpha_0, C6, R_vdw = pymbd.get_free_atom_data(species)\n",
    "omega = mbd.omega_eff(C6, alpha_0)"
   ]
  },
  {
   "cell_type": "code",
   "execution_count": 57,
   "metadata": {
    "collapsed": false
   },
   "outputs": [],
   "source": [
    "k_grid = mbd.make_k_grid(mbd.make_g_grid(200, 1, 1), uc)"
   ]
  },
  {
   "cell_type": "code",
   "execution_count": 58,
   "metadata": {
    "collapsed": false
   },
   "outputs": [],
   "source": [
    "omegas = mbd.get_reciprocal_mbd_energy('REV', 'fermi,dip', xyz, alpha_0, omega, k_grid, uc,\n",
    "                                       r_vdw=R_vdw, beta=1., a=6.)[1]"
   ]
  },
  {
   "cell_type": "code",
   "execution_count": 59,
   "metadata": {
    "collapsed": false
   },
   "outputs": [
    {
     "data": {
      "text/plain": [
       "[<matplotlib.lines.Line2D at 0x111aaf588>,\n",
       " <matplotlib.lines.Line2D at 0x111aaf748>,\n",
       " <matplotlib.lines.Line2D at 0x111ab50f0>,\n",
       " <matplotlib.lines.Line2D at 0x111ab5908>,\n",
       " <matplotlib.lines.Line2D at 0x111aba160>,\n",
       " <matplotlib.lines.Line2D at 0x111aba978>]"
      ]
     },
     "execution_count": 59,
     "metadata": {},
     "output_type": "execute_result"
    },
    {
     "data": {
      "image/png": "[encoded data removed]",
      "text/plain": [
       "<matplotlib.figure.Figure at 0x1119aec88>"
      ]
     },
     "metadata": {},
     "output_type": "display_data"
    }
   ],
   "source": [
    "plt.plot(*chain.from_iterable((*zip(*sorted(zip(k_grid[:, 0], omegas[:, i]))), 'b-') for i in range(omegas.shape[1])))"
   ]
  },
  {
   "cell_type": "code",
   "execution_count": 60,
   "metadata": {
    "collapsed": false
   },
   "outputs": [],
   "source": [
    "ns_kpt = [4, 6, 8, 10, 15, 20, 30]\n",
    "enes_periodic = []\n",
    "for n_kpt in ns_kpt:\n",
    "    k_grid = mbd.make_k_grid(mbd.make_g_grid(n_kpt, n_kpt, 1), uc)\n",
    "    ene = mbd.get_reciprocal_mbd_energy('R', 'fermi,dip', xyz, alpha_0, omega, k_grid, uc,\n",
    "                                      r_vdw=R_vdw, beta=1., a=6.)[0]\n",
    "    enes_periodic.append(ene)"
   ]
  },
  {
   "cell_type": "code",
   "execution_count": 61,
   "metadata": {
    "collapsed": false
   },
   "outputs": [],
   "source": [
    "ns_cell = [5, 7, 9, 11, 13, 17]\n",
    "enes_supercell = []\n",
    "for n_cell in ns_cell:\n",
    "    ene = mbd.get_supercell_mbd_energy('C', 'fermi,dip', xyz, alpha_0, omega, uc, (n_cell, n_cell, 1),\n",
    "                                       r_vdw=R_vdw, beta=1., a=6.)[0]\n",
    "    enes_supercell.append(ene)"
   ]
  },
  {
   "cell_type": "code",
   "execution_count": 62,
   "metadata": {
    "collapsed": false
   },
   "outputs": [
    {
     "data": {
      "text/plain": [
       "[<matplotlib.lines.Line2D at 0x111bb7828>,\n",
       " <matplotlib.lines.Line2D at 0x111bb79e8>]"
      ]
     },
     "execution_count": 62,
     "metadata": {},
     "output_type": "execute_result"
    },
    {
     "data": {
      "image/png": "[encoded data removed]",
      "text/plain": [
       "<matplotlib.figure.Figure at 0x111a7e7b8>"
      ]
     },
     "metadata": {},
     "output_type": "display_data"
    }
   ],
   "source": [
    "plt.plot(ns_cell, enes_supercell, 'b',\n",
    "         ns_kpt, enes_periodic, 'r')"
   ]
  },
  {
   "cell_type": "code",
   "execution_count": 63,
   "metadata": {
    "collapsed": false
   },
   "outputs": [],
   "source": [
    "mbd.param_dipole_low_dim_cutoff = 100"
   ]
  },
  {
   "cell_type": "code",
   "execution_count": 64,
   "metadata": {
    "collapsed": false
   },
   "outputs": [],
   "source": [
    "# k_grid = mbd.make_k_grid(mbd.make_g_grid(15, 15, 1), uc)\n",
    "# ene, _, _, orders = mbd.get_reciprocal_mbd_energy('RQO', 'fermi,dip', xyz, alpha_0, omega, k_grid, uc,\n",
    "#                                       r_vdw=R_vdw, beta=1., a=6.)"
   ]
  },
  {
   "cell_type": "code",
   "execution_count": 65,
   "metadata": {
    "collapsed": false
   },
   "outputs": [],
   "source": [
    "# k_grid = mbd.make_k_grid(mbd.make_g_grid(100, 1, 1), uc)\n",
    "# orders = mbd.get_reciprocal_mbd_energy('RQO', 'fermi,dip', xyz, alpha_0, omega, k_grid, uc,\n",
    "#                                       r_vdw=R_vdw, beta=1., a=6.)[3]"
   ]
  },
  {
   "cell_type": "code",
   "execution_count": 66,
   "metadata": {
    "collapsed": false
   },
   "outputs": [],
   "source": [
    "# plt.plot(*chain.from_iterable((*zip(*sorted(zip(k_grid[:, 0], orders[:, i]))), 'b-') for i in range(omegas.shape[1])))"
   ]
  }
 ],
 "metadata": {
  "kernelspec": {
   "display_name": "Python 3",
   "language": "python",
   "name": "python3"
  },
  "language_info": {
   "codemirror_mode": {
    "name": "ipython",
    "version": 3
   },
   "file_extension": ".py",
   "mimetype": "text/x-python",
   "name": "python",
   "nbconvert_exporter": "python",
   "pygments_lexer": "ipython3",
   "version": "3.5.1"
  }
 },
 "nbformat": 4,
 "nbformat_minor": 0
}
