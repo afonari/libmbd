{
 "cells": [
  {
   "cell_type": "code",
   "execution_count": 1,
   "metadata": {
    "collapsed": false
   },
   "outputs": [],
   "source": [
    "import sys\n",
    "sys.path.append('..')\n",
    "import pymbd\n",
    "from pymbd import mbd\n",
    "import numpy as np\n",
    "from itertools import chain\n",
    "import matplotlib.pyplot as plt\n",
    "%matplotlib inline"
   ]
  },
  {
   "cell_type": "code",
   "execution_count": 2,
   "metadata": {
    "collapsed": false
   },
   "outputs": [],
   "source": [
    "bohr = mbd.bohr"
   ]
  },
  {
   "cell_type": "code",
   "execution_count": 4,
   "metadata": {
    "collapsed": false
   },
   "outputs": [
    {
     "data": {
      "text/plain": [
       "0.5362854564217415"
      ]
     },
     "execution_count": 4,
     "metadata": {},
     "output_type": "execute_result"
    }
   ],
   "source": []
  },
  {
   "cell_type": "markdown",
   "metadata": {},
   "source": [
    "## Argon dimer"
   ]
  },
  {
   "cell_type": "code",
   "execution_count": 3,
   "metadata": {
    "collapsed": true
   },
   "outputs": [],
   "source": [
    "mbd.param_dipole_matrix_accuracy = 1e-10"
   ]
  },
  {
   "cell_type": "code",
   "execution_count": 4,
   "metadata": {
    "collapsed": false
   },
   "outputs": [],
   "source": [
    "species = ['Ar', 'Ar']\n",
    "xyz = [(0., 0., 0.), (4., 0., 0.)]/bohr"
   ]
  },
  {
   "cell_type": "code",
   "execution_count": 6,
   "metadata": {
    "collapsed": false
   },
   "outputs": [],
   "source": [
    "alpha_0, C6, R_vdw = pymbd.get_free_atom_data(species)\n",
    "omega = mbd.omega_eff(C6, alpha_0)"
   ]
  },
  {
   "cell_type": "code",
   "execution_count": 7,
   "metadata": {
    "collapsed": false
   },
   "outputs": [
    {
     "data": {
      "text/plain": [
       "-0.0001223737042788109"
      ]
     },
     "execution_count": 7,
     "metadata": {},
     "output_type": "execute_result"
    }
   ],
   "source": [
    "mbd.get_single_mbd_energy('', 'fermi,dip', xyz, alpha_0, omega, r_vdw=R_vdw, beta=1., a=6.)[0]"
   ]
  },
  {
   "cell_type": "code",
   "execution_count": 8,
   "metadata": {
    "collapsed": false
   },
   "outputs": [
    {
     "data": {
      "text/plain": [
       "-0.00012290836996899313"
      ]
     },
     "execution_count": 8,
     "metadata": {},
     "output_type": "execute_result"
    }
   ],
   "source": [
    "mbd.get_qho_rpa_energy('', 'fermi,dip', xyz, mbd.alpha_dynamic_ts_all('C', mbd.n_grid_omega, alpha_0, c6=C6),\n",
    "                       r_vdw=R_vdw, beta=1., a=6.)[0]"
   ]
  },
  {
   "cell_type": "code",
   "execution_count": 9,
   "metadata": {
    "collapsed": false
   },
   "outputs": [
    {
     "data": {
      "text/plain": [
       "-0.00012234680209302474"
      ]
     },
     "execution_count": 9,
     "metadata": {},
     "output_type": "execute_result"
    }
   ],
   "source": [
    "mbd.get_ts_energy('', 'fermi2', xyz, C6, alpha_0, r_vdw=R_vdw, s_r=1., d=6.)"
   ]
  },
  {
   "cell_type": "markdown",
   "metadata": {},
   "source": [
    "## Linear argon chain"
   ]
  },
  {
   "cell_type": "code",
   "execution_count": 10,
   "metadata": {
    "collapsed": true
   },
   "outputs": [],
   "source": [
    "mbd.param_dipole_matrix_accuracy = 1e-10"
   ]
  },
  {
   "cell_type": "code",
   "execution_count": 11,
   "metadata": {
    "collapsed": false
   },
   "outputs": [],
   "source": [
    "species = ['Ar']\n",
    "xyz = [(0., 0., 0.)]/bohr\n",
    "uc = np.array([(4., 0., 0.), (0., 10., 0.), (0., 0., 10.)])/bohr\n",
    "mbd.param_vacuum_axis = (False, True, True)"
   ]
  },
  {
   "cell_type": "code",
   "execution_count": 13,
   "metadata": {
    "collapsed": false
   },
   "outputs": [],
   "source": [
    "alpha_0, C6, R_vdw = pymbd.get_free_atom_data(species)\n",
    "omega = mbd.omega_eff(C6, alpha_0)"
   ]
  },
  {
   "cell_type": "code",
   "execution_count": 14,
   "metadata": {
    "collapsed": false
   },
   "outputs": [],
   "source": [
    "k_grid = mbd.make_k_grid(mbd.make_g_grid(200, 1, 1), uc)"
   ]
  },
  {
   "cell_type": "code",
   "execution_count": 15,
   "metadata": {
    "collapsed": false
   },
   "outputs": [],
   "source": [
    "omegas = mbd.get_reciprocal_mbd_energy('REV', 'fermi,dip', xyz, alpha_0, omega, k_grid, uc,\n",
    "                                       r_vdw=R_vdw, beta=1., a=6.)[1]"
   ]
  },
  {
   "cell_type": "code",
   "execution_count": 16,
   "metadata": {
    "collapsed": false
   },
   "outputs": [
    {
     "data": {
      "text/plain": [
       "[<matplotlib.lines.Line2D at 0x10c9a5c88>,\n",
       " <matplotlib.lines.Line2D at 0x10c9ad048>,\n",
       " <matplotlib.lines.Line2D at 0x10c9ad860>]"
      ]
     },
     "execution_count": 16,
     "metadata": {},
     "output_type": "execute_result"
    },
    {
     "data": {
      "image/png": "[encoded data removed]",
      "text/plain": [
       "<matplotlib.figure.Figure at 0x10c937a58>"
      ]
     },
     "metadata": {},
     "output_type": "display_data"
    }
   ],
   "source": [
    "plt.plot(*chain.from_iterable((*zip(*sorted(zip(k_grid[:, 0], omegas[:, i]))), 'b-') for i in range(omegas.shape[1])))"
   ]
  },
  {
   "cell_type": "code",
   "execution_count": 17,
   "metadata": {
    "collapsed": false
   },
   "outputs": [],
   "source": [
    "ns_kpt = [4, 8, 12, 20, 40, 80]\n",
    "enes_periodic = []\n",
    "for n_kpt in ns_kpt:\n",
    "    k_grid = mbd.make_k_grid(mbd.make_g_grid(n_kpt, 1, 1), uc)\n",
    "    ene = mbd.get_reciprocal_mbd_energy('R', 'fermi,dip', xyz, alpha_0, omega, k_grid, uc,\n",
    "                                      r_vdw=R_vdw, beta=1., a=6.)[0]\n",
    "    enes_periodic.append(ene)"
   ]
  },
  {
   "cell_type": "code",
   "execution_count": 18,
   "metadata": {
    "collapsed": false
   },
   "outputs": [],
   "source": [
    "cutoffs = [8., 12., 25., 50., 100., 200., 400., 800.]\n",
    "enes_supercell = []\n",
    "for cutoff in cutoffs:\n",
    "    mbd.param_mbd_supercell_cutoff = cutoff/bohr\n",
    "    ene = mbd.get_supercell_mbd_energy('P', 'fermi,dip', xyz, alpha_0, omega, uc,\n",
    "                                       r_vdw=R_vdw, beta=1., a=6.)[0]\n",
    "    enes_supercell.append(ene)"
   ]
  },
  {
   "cell_type": "code",
   "execution_count": 19,
   "metadata": {
    "collapsed": false
   },
   "outputs": [
    {
     "data": {
      "text/plain": [
       "[<matplotlib.lines.Line2D at 0x10cbc5278>,\n",
       " <matplotlib.lines.Line2D at 0x10cbc55f8>]"
      ]
     },
     "execution_count": 19,
     "metadata": {},
     "output_type": "execute_result"
    },
    {
     "data": {
      "image/png": "[encoded data removed]",
      "text/plain": [
       "<matplotlib.figure.Figure at 0x10c9ebe48>"
      ]
     },
     "metadata": {},
     "output_type": "display_data"
    }
   ],
   "source": [
    "plt.plot(cutoffs, enes_supercell, 'b',\n",
    "         [10*x for x in ns_kpt], enes_periodic, 'r')"
   ]
  },
  {
   "cell_type": "code",
   "execution_count": 20,
   "metadata": {
    "collapsed": false
   },
   "outputs": [
    {
     "data": {
      "text/plain": [
       "-0.00012831280394436066"
      ]
     },
     "execution_count": 20,
     "metadata": {},
     "output_type": "execute_result"
    }
   ],
   "source": [
    "mbd.get_ts_energy('P', 'fermi2', xyz, C6, alpha_0, r_vdw=R_vdw, s_r=1., d=6., unit_cell=uc)"
   ]
  },
  {
   "cell_type": "code",
   "execution_count": 21,
   "metadata": {
    "collapsed": false
   },
   "outputs": [
    {
     "data": {
      "text/plain": [
       "(-0.00012876096463059527, -0.00012910460961087778)"
      ]
     },
     "execution_count": 21,
     "metadata": {},
     "output_type": "execute_result"
    }
   ],
   "source": [
    "(enes_supercell[-1], enes_periodic[-1])"
   ]
  },
  {
   "cell_type": "code",
   "execution_count": 22,
   "metadata": {
    "collapsed": false
   },
   "outputs": [],
   "source": [
    "mbd.param_mbd_supercell_cutoff = 30./bohr"
   ]
  },
  {
   "cell_type": "code",
   "execution_count": 23,
   "metadata": {
    "collapsed": false
   },
   "outputs": [
    {
     "data": {
      "text/plain": [
       "-0.0001213294099366468"
      ]
     },
     "execution_count": 23,
     "metadata": {},
     "output_type": "execute_result"
    }
   ],
   "source": [
    "mbd.get_supercell_mbd_energy('P', 'fermi,dip', xyz, alpha_0, omega, uc,\n",
    "                             r_vdw=R_vdw, beta=1., a=6.)[0]"
   ]
  },
  {
   "cell_type": "code",
   "execution_count": 24,
   "metadata": {
    "collapsed": false
   },
   "outputs": [
    {
     "data": {
      "text/plain": [
       "-0.00012138396344336484"
      ]
     },
     "execution_count": 24,
     "metadata": {},
     "output_type": "execute_result"
    }
   ],
   "source": [
    "mbd.get_supercell_mbd_energy('PQ', 'fermi,dip', xyz, alpha_0, omega, uc,\n",
    "                             r_vdw=R_vdw, beta=1., a=6.)[0]"
   ]
  },
  {
   "cell_type": "markdown",
   "metadata": {},
   "source": [
    "## Linear argon chain (2 atoms in cell)"
   ]
  },
  {
   "cell_type": "code",
   "execution_count": 25,
   "metadata": {
    "collapsed": true
   },
   "outputs": [],
   "source": [
    "mbd.param_dipole_matrix_accuracy = 1e-10"
   ]
  },
  {
   "cell_type": "code",
   "execution_count": 26,
   "metadata": {
    "collapsed": false
   },
   "outputs": [],
   "source": [
    "species = ['Ar', 'Ar']\n",
    "xyz = [(0., 0., 0.), (4., 0., 0.)]/bohr\n",
    "uc = np.array([(8., 0., 0.), (0., 10., 0.), (0., 0., 10.)])/bohr\n",
    "mbd.param_vacuum_axis = (False, True, True)"
   ]
  },
  {
   "cell_type": "code",
   "execution_count": 28,
   "metadata": {
    "collapsed": false
   },
   "outputs": [],
   "source": [
    "alpha_0, C6, R_vdw = pymbd.get_free_atom_data(species)\n",
    "omega = mbd.omega_eff(C6, alpha_0)"
   ]
  },
  {
   "cell_type": "code",
   "execution_count": 29,
   "metadata": {
    "collapsed": false
   },
   "outputs": [],
   "source": [
    "k_grid = mbd.make_k_grid(mbd.make_g_grid(200, 1, 1), uc)"
   ]
  },
  {
   "cell_type": "code",
   "execution_count": 30,
   "metadata": {
    "collapsed": false
   },
   "outputs": [],
   "source": [
    "omegas = mbd.get_reciprocal_mbd_energy('REV', 'fermi,dip', xyz, alpha_0, omega, k_grid, uc,\n",
    "                                       r_vdw=R_vdw, beta=1., a=6.)[1]"
   ]
  },
  {
   "cell_type": "code",
   "execution_count": 31,
   "metadata": {
    "collapsed": false
   },
   "outputs": [
    {
     "data": {
      "text/plain": [
       "[<matplotlib.lines.Line2D at 0x10cafeda0>,\n",
       " <matplotlib.lines.Line2D at 0x10cb03160>,\n",
       " <matplotlib.lines.Line2D at 0x10cb03978>,\n",
       " <matplotlib.lines.Line2D at 0x10cb0a160>,\n",
       " <matplotlib.lines.Line2D at 0x10cb0a908>,\n",
       " <matplotlib.lines.Line2D at 0x10cb650f0>,\n",
       " <matplotlib.lines.Line2D at 0x10cb65898>,\n",
       " <matplotlib.lines.Line2D at 0x10cb6b080>,\n",
       " <matplotlib.lines.Line2D at 0x10cb6b828>,\n",
       " <matplotlib.lines.Line2D at 0x10cb6bfd0>,\n",
       " <matplotlib.lines.Line2D at 0x10cb707b8>,\n",
       " <matplotlib.lines.Line2D at 0x10cb70f60>]"
      ]
     },
     "execution_count": 31,
     "metadata": {},
     "output_type": "execute_result"
    },
    {
     "data": {
      "image/png": "[encoded data removed]",
      "text/plain": [
       "<matplotlib.figure.Figure at 0x10c937160>"
      ]
     },
     "metadata": {},
     "output_type": "display_data"
    }
   ],
   "source": [
    "plt.plot(*chain.from_iterable((\n",
    "            *zip(*sorted(zip(k_grid[:, 0], omegas[:, i]))),\n",
    "            'b-',\n",
    "            *zip(*sorted(zip(k_grid[:, 0]+2*np.pi/8*bohr, omegas[:, i]))),\n",
    "            'b-'\n",
    "        ) for i in range(omegas.shape[1])))"
   ]
  },
  {
   "cell_type": "code",
   "execution_count": 32,
   "metadata": {
    "collapsed": false
   },
   "outputs": [],
   "source": [
    "ns_kpt = [4, 8, 12, 20, 40, 80]\n",
    "enes_periodic = []\n",
    "for n_kpt in ns_kpt:\n",
    "    k_grid = mbd.make_k_grid(mbd.make_g_grid(n_kpt, 1, 1), uc)\n",
    "    ene = mbd.get_reciprocal_mbd_energy('R', 'fermi,dip', xyz, alpha_0, omega, k_grid, uc,\n",
    "                                      r_vdw=R_vdw, beta=1., a=6.)[0]\n",
    "    enes_periodic.append(ene)"
   ]
  },
  {
   "cell_type": "code",
   "execution_count": 33,
   "metadata": {
    "collapsed": false
   },
   "outputs": [],
   "source": [
    "cutoffs = [8., 12., 25., 50., 100., 200., 400., 800.]\n",
    "enes_supercell = []\n",
    "for cutoff in cutoffs:\n",
    "    mbd.param_mbd_supercell_cutoff = cutoff/bohr\n",
    "    ene = mbd.get_supercell_mbd_energy('P', 'fermi,dip', xyz, alpha_0, omega, uc,\n",
    "                                       r_vdw=R_vdw, beta=1., a=6.)[0]\n",
    "    enes_supercell.append(ene)"
   ]
  },
  {
   "cell_type": "code",
   "execution_count": 34,
   "metadata": {
    "collapsed": false
   },
   "outputs": [
    {
     "data": {
      "text/plain": [
       "[<matplotlib.lines.Line2D at 0x10f0ed630>,\n",
       " <matplotlib.lines.Line2D at 0x10f0ed9b0>]"
      ]
     },
     "execution_count": 34,
     "metadata": {},
     "output_type": "execute_result"
    },
    {
     "data": {
      "image/png": "[encoded data removed]",
      "text/plain": [
       "<matplotlib.figure.Figure at 0x10caccf60>"
      ]
     },
     "metadata": {},
     "output_type": "display_data"
    }
   ],
   "source": [
    "plt.plot(cutoffs, enes_supercell, 'b',\n",
    "         10*np.array(ns_kpt), enes_periodic, 'r')"
   ]
  },
  {
   "cell_type": "code",
   "execution_count": 35,
   "metadata": {
    "collapsed": false
   },
   "outputs": [
    {
     "data": {
      "text/plain": [
       "-0.00012831280394436066"
      ]
     },
     "execution_count": 35,
     "metadata": {},
     "output_type": "execute_result"
    }
   ],
   "source": [
    "mbd.get_ts_energy('P', 'fermi2', xyz, C6, alpha_0, r_vdw=R_vdw, s_r=1., d=6., unit_cell=uc)/2"
   ]
  },
  {
   "cell_type": "code",
   "execution_count": 36,
   "metadata": {
    "collapsed": false
   },
   "outputs": [
    {
     "data": {
      "text/plain": [
       "(-0.0001287618129337752, -0.0001291022956826926)"
      ]
     },
     "execution_count": 36,
     "metadata": {},
     "output_type": "execute_result"
    }
   ],
   "source": [
    "(enes_supercell[-1]/2, enes_periodic[-1]/2)"
   ]
  },
  {
   "cell_type": "markdown",
   "metadata": {},
   "source": [
    "## Two parallel argon chains"
   ]
  },
  {
   "cell_type": "code",
   "execution_count": 37,
   "metadata": {
    "collapsed": true
   },
   "outputs": [],
   "source": [
    "mbd.param_dipole_matrix_accuracy = 1e-10"
   ]
  },
  {
   "cell_type": "code",
   "execution_count": 38,
   "metadata": {
    "collapsed": true
   },
   "outputs": [],
   "source": [
    "species = ['Ar', 'Ar']\n",
    "xyz = [(0., 0., 0.), (0., 0., 4.)]/bohr\n",
    "uc = np.array([(4., 0., 0.), (0., 10., 0.), (0., 0., 10.)])/bohr\n",
    "mbd.param_vacuum_axis = (False, True, True)"
   ]
  },
  {
   "cell_type": "code",
   "execution_count": 41,
   "metadata": {
    "collapsed": false
   },
   "outputs": [],
   "source": [
    "alpha_0, C6, R_vdw = pymbd.get_free_atom_data(species)\n",
    "omega = mbd.omega_eff(C6, alpha_0)"
   ]
  },
  {
   "cell_type": "code",
   "execution_count": 42,
   "metadata": {
    "collapsed": false
   },
   "outputs": [],
   "source": [
    "k_grid = mbd.make_k_grid(mbd.make_g_grid(200, 1, 1), uc)"
   ]
  },
  {
   "cell_type": "code",
   "execution_count": 43,
   "metadata": {
    "collapsed": false
   },
   "outputs": [],
   "source": [
    "omegas = mbd.get_reciprocal_mbd_energy('REV', 'fermi,dip', xyz, alpha_0, omega, k_grid, uc,\n",
    "                                       r_vdw=R_vdw, beta=1., a=6.)[1]"
   ]
  },
  {
   "cell_type": "code",
   "execution_count": 44,
   "metadata": {
    "collapsed": false
   },
   "outputs": [
    {
     "data": {
      "text/plain": [
       "[<matplotlib.lines.Line2D at 0x10f17d940>,\n",
       " <matplotlib.lines.Line2D at 0x10f17dcc0>,\n",
       " <matplotlib.lines.Line2D at 0x10f184518>,\n",
       " <matplotlib.lines.Line2D at 0x10f184cc0>,\n",
       " <matplotlib.lines.Line2D at 0x10f1894a8>,\n",
       " <matplotlib.lines.Line2D at 0x10f189c50>]"
      ]
     },
     "execution_count": 44,
     "metadata": {},
     "output_type": "execute_result"
    },
    {
     "data": {
      "image/png": "[encoded data removed]",
      "text/plain": [
       "<matplotlib.figure.Figure at 0x10cacc7f0>"
      ]
     },
     "metadata": {},
     "output_type": "display_data"
    }
   ],
   "source": [
    "plt.plot(*chain.from_iterable((*zip(*sorted(zip(k_grid[:, 0], omegas[:, i]))), 'b-') for i in range(omegas.shape[1])))"
   ]
  },
  {
   "cell_type": "code",
   "execution_count": 45,
   "metadata": {
    "collapsed": false
   },
   "outputs": [],
   "source": [
    "ns_kpt = [4, 8, 12, 20, 40, 80]\n",
    "enes_periodic = []\n",
    "for n_kpt in ns_kpt:\n",
    "    k_grid = mbd.make_k_grid(mbd.make_g_grid(n_kpt, 1, 1), uc)\n",
    "    ene = mbd.get_reciprocal_mbd_energy('R', 'fermi,dip', xyz, alpha_0, omega, k_grid, uc,\n",
    "                                      r_vdw=R_vdw, beta=1., a=6.)[0]\n",
    "    enes_periodic.append(ene)"
   ]
  },
  {
   "cell_type": "code",
   "execution_count": 46,
   "metadata": {
    "collapsed": false
   },
   "outputs": [],
   "source": [
    "cutoffs = [8., 12., 25., 50., 100., 200., 400., 800.]\n",
    "enes_supercell = []\n",
    "for cutoff in cutoffs:\n",
    "    mbd.param_mbd_supercell_cutoff = cutoff/bohr\n",
    "    ene = mbd.get_supercell_mbd_energy('P', 'fermi,dip', xyz, alpha_0, omega, uc,\n",
    "                                       r_vdw=R_vdw, beta=1., a=6.)[0]\n",
    "    enes_supercell.append(ene)"
   ]
  },
  {
   "cell_type": "code",
   "execution_count": 47,
   "metadata": {
    "collapsed": false
   },
   "outputs": [
    {
     "data": {
      "text/plain": [
       "[<matplotlib.lines.Line2D at 0x10f30ba20>,\n",
       " <matplotlib.lines.Line2D at 0x10f30bda0>]"
      ]
     },
     "execution_count": 47,
     "metadata": {},
     "output_type": "execute_result"
    },
    {
     "data": {
      "image/png": "[encoded data removed]",
      "text/plain": [
       "<matplotlib.figure.Figure at 0x10cbd4a58>"
      ]
     },
     "metadata": {},
     "output_type": "display_data"
    }
   ],
   "source": [
    "plt.plot(cutoffs, enes_supercell, 'b',\n",
    "         [10*x for x in ns_kpt], enes_periodic, 'r')"
   ]
  },
  {
   "cell_type": "code",
   "execution_count": 48,
   "metadata": {
    "collapsed": false
   },
   "outputs": [
    {
     "data": {
      "text/plain": [
       "-0.0004638232296040013"
      ]
     },
     "execution_count": 48,
     "metadata": {},
     "output_type": "execute_result"
    }
   ],
   "source": [
    "mbd.get_ts_energy('P', 'fermi2', xyz, C6, alpha_0, r_vdw=R_vdw, s_r=1., d=6., unit_cell=uc)"
   ]
  },
  {
   "cell_type": "code",
   "execution_count": 49,
   "metadata": {
    "collapsed": false
   },
   "outputs": [
    {
     "data": {
      "text/plain": [
       "(-0.0004617811554708101, -0.00046269334224474103)"
      ]
     },
     "execution_count": 49,
     "metadata": {},
     "output_type": "execute_result"
    }
   ],
   "source": [
    "(enes_supercell[-1], enes_periodic[-1])"
   ]
  },
  {
   "cell_type": "markdown",
   "metadata": {},
   "source": [
    "## Argon crystal"
   ]
  },
  {
   "cell_type": "code",
   "execution_count": 50,
   "metadata": {
    "collapsed": false
   },
   "outputs": [],
   "source": [
    "species = ['Ar']\n",
    "xyz = [(0., 0., 0.)]/bohr\n",
    "uc = np.array([(4., 0., 0.), (0., 4., 0.), (0., 0., 4.)])/bohr\n",
    "mbd.param_vacuum_axis = (False, False, False)"
   ]
  },
  {
   "cell_type": "code",
   "execution_count": 52,
   "metadata": {
    "collapsed": false
   },
   "outputs": [],
   "source": [
    "alpha_0, C6, R_vdw = pymbd.get_free_atom_data(species)\n",
    "omega = mbd.omega_eff(C6, alpha_0)"
   ]
  },
  {
   "cell_type": "code",
   "execution_count": 53,
   "metadata": {
    "collapsed": false
   },
   "outputs": [],
   "source": [
    "k_grid = mbd.make_k_grid(mbd.make_g_grid(30, 1, 1), uc)"
   ]
  },
  {
   "cell_type": "code",
   "execution_count": 54,
   "metadata": {
    "collapsed": true
   },
   "outputs": [],
   "source": [
    "mbd.param_dipole_matrix_accuracy = 1e-7"
   ]
  },
  {
   "cell_type": "code",
   "execution_count": 55,
   "metadata": {
    "collapsed": false
   },
   "outputs": [],
   "source": [
    "omegas = mbd.get_reciprocal_mbd_energy('REV', 'fermi,dip', xyz, alpha_0, omega, k_grid, uc,\n",
    "                                       r_vdw=R_vdw, beta=1., a=6.)[1]"
   ]
  },
  {
   "cell_type": "code",
   "execution_count": 56,
   "metadata": {
    "collapsed": false
   },
   "outputs": [
    {
     "data": {
      "text/plain": [
       "[<matplotlib.lines.Line2D at 0x10f371438>,\n",
       " <matplotlib.lines.Line2D at 0x10f3717b8>,\n",
       " <matplotlib.lines.Line2D at 0x10f371fd0>]"
      ]
     },
     "execution_count": 56,
     "metadata": {},
     "output_type": "execute_result"
    },
    {
     "data": {
      "image/png": "[encoded data removed]",
      "text/plain": [
       "<matplotlib.figure.Figure at 0x10f148588>"
      ]
     },
     "metadata": {},
     "output_type": "display_data"
    }
   ],
   "source": [
    "plt.plot(*chain.from_iterable((*zip(*sorted(zip(k_grid[:, 0], omegas[:, i]))), 'b-') for i in range(omegas.shape[1])))"
   ]
  },
  {
   "cell_type": "code",
   "execution_count": 57,
   "metadata": {
    "collapsed": false
   },
   "outputs": [],
   "source": [
    "ns_kpt = [3, 4, 5]\n",
    "enes_periodic = []\n",
    "for n_kpt in ns_kpt:\n",
    "    k_grid = mbd.make_k_grid(mbd.make_g_grid(n_kpt, n_kpt, n_kpt), uc)\n",
    "    ene = mbd.get_reciprocal_mbd_energy('R', 'fermi,dip', xyz, alpha_0, omega, k_grid, uc,\n",
    "                                      r_vdw=R_vdw, beta=1., a=6.)[0]\n",
    "    enes_periodic.append(ene)"
   ]
  },
  {
   "cell_type": "code",
   "execution_count": 58,
   "metadata": {
    "collapsed": false
   },
   "outputs": [],
   "source": [
    "cutoffs = [8., 12.]\n",
    "enes_supercell = []\n",
    "for cutoff in cutoffs:\n",
    "    mbd.param_mbd_supercell_cutoff = cutoff/bohr\n",
    "    ene = mbd.get_supercell_mbd_energy('P', 'fermi,dip', xyz, alpha_0, omega, uc,\n",
    "                                       r_vdw=R_vdw, beta=1., a=6.)[0]\n",
    "    enes_supercell.append(ene)"
   ]
  },
  {
   "cell_type": "code",
   "execution_count": 59,
   "metadata": {
    "collapsed": false
   },
   "outputs": [
    {
     "data": {
      "text/plain": [
       "[<matplotlib.lines.Line2D at 0x10f282e10>,\n",
       " <matplotlib.lines.Line2D at 0x10f2871d0>]"
      ]
     },
     "execution_count": 59,
     "metadata": {},
     "output_type": "execute_result"
    },
    {
     "data": {
      "image/png": "[encoded data removed]",
      "text/plain": [
       "<matplotlib.figure.Figure at 0x10c9f4da0>"
      ]
     },
     "metadata": {},
     "output_type": "display_data"
    }
   ],
   "source": [
    "plt.plot(cutoffs, enes_supercell, 'b',\n",
    "         [10*x for x in ns_kpt], enes_periodic, 'r')"
   ]
  },
  {
   "cell_type": "code",
   "execution_count": 60,
   "metadata": {
    "collapsed": false
   },
   "outputs": [
    {
     "data": {
      "text/plain": [
       "-0.0007571292345517154"
      ]
     },
     "execution_count": 60,
     "metadata": {},
     "output_type": "execute_result"
    }
   ],
   "source": [
    "mbd.get_ts_energy('P', 'fermi2', xyz, C6, alpha_0, r_vdw=R_vdw, s_r=1., d=6., unit_cell=uc)"
   ]
  },
  {
   "cell_type": "markdown",
   "metadata": {},
   "source": [
    "## Graphene"
   ]
  },
  {
   "cell_type": "code",
   "execution_count": 61,
   "metadata": {
    "collapsed": true
   },
   "outputs": [],
   "source": [
    "mbd.param_dipole_matrix_accuracy = 1e-7"
   ]
  },
  {
   "cell_type": "code",
   "execution_count": 62,
   "metadata": {
    "collapsed": true
   },
   "outputs": [],
   "source": [
    "species = ['C', 'C']\n",
    "xyz = [(0., 0., 0.), (2.46000413, 1.42034734, 0.)]/bohr\n",
    "uc = np.array([\n",
    "    (2.45999892, 0.00000000, 0.00000000),\n",
    "    (1.22999946, 2.13042155, 0.00000000),\n",
    "    (0.00000000, 0.00000000, 100.00000000)])/bohr\n",
    "mbd.param_vacuum_axis = (False, False, True)"
   ]
  },
  {
   "cell_type": "code",
   "execution_count": 64,
   "metadata": {
    "collapsed": false
   },
   "outputs": [],
   "source": [
    "alpha_0, C6, R_vdw = pymbd.get_free_atom_data(species)\n",
    "omega = mbd.omega_eff(C6, alpha_0)"
   ]
  },
  {
   "cell_type": "code",
   "execution_count": 65,
   "metadata": {
    "collapsed": false
   },
   "outputs": [],
   "source": [
    "k_grid = mbd.make_k_grid(mbd.make_g_grid(100, 1, 1), uc)"
   ]
  },
  {
   "cell_type": "code",
   "execution_count": 66,
   "metadata": {
    "collapsed": false
   },
   "outputs": [],
   "source": [
    "omegas = mbd.get_reciprocal_mbd_energy('REV', 'fermi,dip', xyz, alpha_0, omega, k_grid, uc,\n",
    "                                       r_vdw=R_vdw, beta=1., a=6.)[1]"
   ]
  },
  {
   "cell_type": "code",
   "execution_count": 67,
   "metadata": {
    "collapsed": false
   },
   "outputs": [
    {
     "data": {
      "text/plain": [
       "[<matplotlib.lines.Line2D at 0x10ddf4748>,\n",
       " <matplotlib.lines.Line2D at 0x10ddf4ac8>,\n",
       " <matplotlib.lines.Line2D at 0x10ddfa320>,\n",
       " <matplotlib.lines.Line2D at 0x10ddfaac8>,\n",
       " <matplotlib.lines.Line2D at 0x10de002b0>,\n",
       " <matplotlib.lines.Line2D at 0x10de00a58>]"
      ]
     },
     "execution_count": 67,
     "metadata": {},
     "output_type": "execute_result"
    },
    {
     "data": {
      "image/png": "[encoded data removed]",
      "text/plain": [
       "<matplotlib.figure.Figure at 0x10f2cc8d0>"
      ]
     },
     "metadata": {},
     "output_type": "display_data"
    }
   ],
   "source": [
    "plt.plot(*chain.from_iterable((*zip(*sorted(zip(k_grid[:, 0], omegas[:, i]))), 'b-') for i in range(omegas.shape[1])))"
   ]
  },
  {
   "cell_type": "code",
   "execution_count": 68,
   "metadata": {
    "collapsed": false
   },
   "outputs": [],
   "source": [
    "ns_kpt = [4, 6, 8, 10]\n",
    "enes_periodic = []\n",
    "for n_kpt in ns_kpt:\n",
    "    k_grid = mbd.make_k_grid(mbd.make_g_grid(n_kpt, n_kpt, 1), uc)\n",
    "    ene = mbd.get_reciprocal_mbd_energy('R', 'fermi,dip', xyz, alpha_0, omega, k_grid, uc,\n",
    "                                      r_vdw=R_vdw, beta=1., a=6.)[0]\n",
    "    enes_periodic.append(ene)"
   ]
  },
  {
   "cell_type": "code",
   "execution_count": 69,
   "metadata": {
    "collapsed": false
   },
   "outputs": [],
   "source": [
    "cutoffs = [8., 12., 16.]\n",
    "enes_supercell = []\n",
    "for cutoff in cutoffs:\n",
    "    mbd.param_mbd_supercell_cutoff = cutoff/bohr\n",
    "    ene = mbd.get_supercell_mbd_energy('P', 'fermi,dip', xyz, alpha_0, omega, uc,\n",
    "                                       r_vdw=R_vdw, beta=1., a=6.)[0]\n",
    "    enes_supercell.append(ene)"
   ]
  },
  {
   "cell_type": "code",
   "execution_count": 70,
   "metadata": {
    "collapsed": false
   },
   "outputs": [
    {
     "data": {
      "text/plain": [
       "[<matplotlib.lines.Line2D at 0x10e096f98>,\n",
       " <matplotlib.lines.Line2D at 0x10e09c358>]"
      ]
     },
     "execution_count": 70,
     "metadata": {},
     "output_type": "execute_result"
    },
    {
     "data": {
      "image/png": "[encoded data removed]",
      "text/plain": [
       "<matplotlib.figure.Figure at 0x10f09e940>"
      ]
     },
     "metadata": {},
     "output_type": "display_data"
    }
   ],
   "source": [
    "plt.plot(cutoffs, enes_supercell, 'b',\n",
    "         [10*x for x in ns_kpt], enes_periodic, 'r')"
   ]
  },
  {
   "cell_type": "code",
   "execution_count": null,
   "metadata": {
    "collapsed": true
   },
   "outputs": [],
   "source": []
  }
 ],
 "metadata": {
  "kernelspec": {
   "display_name": "Python 3",
   "language": "python",
   "name": "python3"
  },
  "language_info": {
   "codemirror_mode": {
    "name": "ipython",
    "version": 3
   },
   "file_extension": ".py",
   "mimetype": "text/x-python",
   "name": "python",
   "nbconvert_exporter": "python",
   "pygments_lexer": "ipython3",
   "version": "3.5.0"
  }
 },
 "nbformat": 4,
 "nbformat_minor": 0
}
