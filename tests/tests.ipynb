{
 "cells": [
  {
   "cell_type": "code",
   "execution_count": 1,
   "metadata": {
    "collapsed": false
   },
   "outputs": [],
   "source": [
    "import sys\n",
    "sys.path.append('..')\n",
    "import pymbd\n",
    "from pymbd import mbd\n",
    "import numpy as np\n",
    "from itertools import chain\n",
    "import matplotlib.pyplot as plt\n",
    "%matplotlib inline"
   ]
  },
  {
   "cell_type": "code",
   "execution_count": 2,
   "metadata": {
    "collapsed": false
   },
   "outputs": [],
   "source": [
    "bohr = mbd.bohr"
   ]
  },
  {
   "cell_type": "code",
   "execution_count": 3,
   "metadata": {
    "collapsed": false
   },
   "outputs": [],
   "source": [
    "mbd.init_grid(50)"
   ]
  },
  {
   "cell_type": "code",
   "execution_count": 4,
   "metadata": {
    "collapsed": true
   },
   "outputs": [],
   "source": [
    "np.set_printoptions(suppress=True, linewidth=120)"
   ]
  },
  {
   "cell_type": "markdown",
   "metadata": {},
   "source": [
    "## Argon dimer"
   ]
  },
  {
   "cell_type": "code",
   "execution_count": 5,
   "metadata": {
    "collapsed": false
   },
   "outputs": [],
   "source": [
    "species = ['Ar', 'Ar']\n",
    "xyz = [(0., 0., 0.), (4., 0., 0.)]/bohr"
   ]
  },
  {
   "cell_type": "code",
   "execution_count": 6,
   "metadata": {
    "collapsed": false
   },
   "outputs": [],
   "source": [
    "alpha_0, C6, R_vdw = pymbd.get_free_atom_data(species)\n",
    "omega = mbd.omega_eff(C6, alpha_0)"
   ]
  },
  {
   "cell_type": "code",
   "execution_count": 7,
   "metadata": {
    "collapsed": false
   },
   "outputs": [
    {
     "data": {
      "text/plain": [
       "-0.00012237370437961914"
      ]
     },
     "execution_count": 7,
     "metadata": {},
     "output_type": "execute_result"
    }
   ],
   "source": [
    "mbd.get_single_mbd_energy('', 'fermi,dip', xyz, alpha_0, omega, r_vdw=R_vdw, beta=1., a=6.)[0]"
   ]
  },
  {
   "cell_type": "code",
   "execution_count": 8,
   "metadata": {
    "collapsed": false
   },
   "outputs": [
    {
     "data": {
      "text/plain": [
       "-0.00012237363160364287"
      ]
     },
     "execution_count": 8,
     "metadata": {},
     "output_type": "execute_result"
    }
   ],
   "source": [
    "mbd.get_qho_rpa_energy('', 'fermi,dip', xyz, mbd.alpha_dynamic_ts_all('C', mbd.n_grid_omega, alpha_0, c6=C6),\n",
    "                       r_vdw=R_vdw, beta=1., a=6.)[0]"
   ]
  },
  {
   "cell_type": "code",
   "execution_count": 9,
   "metadata": {
    "collapsed": false
   },
   "outputs": [
    {
     "data": {
      "text/plain": [
       "-0.00012234680219387335"
      ]
     },
     "execution_count": 9,
     "metadata": {},
     "output_type": "execute_result"
    }
   ],
   "source": [
    "mbd.get_ts_energy('', 'fermi2', xyz, C6, alpha_0, r_vdw=R_vdw, s_r=1., d=6.)"
   ]
  },
  {
   "cell_type": "markdown",
   "metadata": {},
   "source": [
    "## Linear argon chain"
   ]
  },
  {
   "cell_type": "code",
   "execution_count": 10,
   "metadata": {
    "collapsed": false
   },
   "outputs": [],
   "source": [
    "species = ['Ar']\n",
    "xyz = [(0., 0., 0.)]/bohr\n",
    "uc = np.array([(4., 0., 0.), (0., 10., 0.), (0., 0., 10.)])/bohr\n",
    "mbd.param_vacuum_axis = (False, True, True)"
   ]
  },
  {
   "cell_type": "code",
   "execution_count": 11,
   "metadata": {
    "collapsed": false
   },
   "outputs": [],
   "source": [
    "alpha_0, C6, R_vdw = pymbd.get_free_atom_data(species)\n",
    "omega = mbd.omega_eff(C6, alpha_0)"
   ]
  },
  {
   "cell_type": "code",
   "execution_count": 12,
   "metadata": {
    "collapsed": false
   },
   "outputs": [],
   "source": [
    "k_grid = mbd.make_k_grid(mbd.make_g_grid(200, 1, 1), uc)"
   ]
  },
  {
   "cell_type": "code",
   "execution_count": 13,
   "metadata": {
    "collapsed": false
   },
   "outputs": [],
   "source": [
    "omegas = mbd.get_reciprocal_mbd_energy('REV', 'fermi,dip', xyz, alpha_0, omega, k_grid, uc,\n",
    "                                       r_vdw=R_vdw, beta=1., a=6.)[1]"
   ]
  },
  {
   "cell_type": "code",
   "execution_count": 14,
   "metadata": {
    "collapsed": false
   },
   "outputs": [
    {
     "data": {
      "text/plain": [
       "[<matplotlib.lines.Line2D at 0x11266d668>,\n",
       " <matplotlib.lines.Line2D at 0x11266d9e8>,\n",
       " <matplotlib.lines.Line2D at 0x112676240>]"
      ]
     },
     "execution_count": 14,
     "metadata": {},
     "output_type": "execute_result"
    },
    {
     "data": {
      "image/png": "[encoded data removed]",
      "text/plain": [
       "<matplotlib.figure.Figure at 0x1125fc1d0>"
      ]
     },
     "metadata": {},
     "output_type": "display_data"
    }
   ],
   "source": [
    "plt.plot(*chain.from_iterable((*zip(*sorted(zip(k_grid[:, 0], omegas[:, i]))), 'b-') for i in range(omegas.shape[1])))"
   ]
  },
  {
   "cell_type": "code",
   "execution_count": 15,
   "metadata": {
    "collapsed": false
   },
   "outputs": [],
   "source": [
    "ns_kpt = [4, 8, 12, 20, 40, 80]\n",
    "enes_periodic = []\n",
    "for n_kpt in ns_kpt:\n",
    "    k_grid = mbd.make_k_grid(mbd.make_g_grid(n_kpt, 1, 1), uc)\n",
    "    ene = mbd.get_reciprocal_mbd_energy('R', 'fermi,dip', xyz, alpha_0, omega, k_grid, uc,\n",
    "                                      r_vdw=R_vdw, beta=1., a=6.)[0]\n",
    "    enes_periodic.append(ene)"
   ]
  },
  {
   "cell_type": "code",
   "execution_count": 16,
   "metadata": {
    "collapsed": false
   },
   "outputs": [],
   "source": [
    "cutoffs = [8., 12., 25., 50., 100., 200., 400., 800.]\n",
    "enes_supercell = []\n",
    "for cutoff in cutoffs:\n",
    "    mbd.param_mbd_supercell_cutoff = cutoff/bohr\n",
    "    ene = mbd.get_supercell_mbd_energy('C', 'fermi,dip', xyz, alpha_0, omega, uc,\n",
    "                                       r_vdw=R_vdw, beta=1., a=6.)[0]\n",
    "    enes_supercell.append(ene)"
   ]
  },
  {
   "cell_type": "code",
   "execution_count": 17,
   "metadata": {
    "collapsed": false
   },
   "outputs": [
    {
     "data": {
      "text/plain": [
       "[<matplotlib.lines.Line2D at 0x113dfab70>,\n",
       " <matplotlib.lines.Line2D at 0x113dfaef0>]"
      ]
     },
     "execution_count": 17,
     "metadata": {},
     "output_type": "execute_result"
    },
    {
     "data": {
      "image/png": "[encoded data removed]",
      "text/plain": [
       "<matplotlib.figure.Figure at 0x1126ae550>"
      ]
     },
     "metadata": {},
     "output_type": "display_data"
    }
   ],
   "source": [
    "plt.plot(cutoffs, enes_supercell, 'b',\n",
    "         [10*x for x in ns_kpt], enes_periodic, 'r')"
   ]
  },
  {
   "cell_type": "code",
   "execution_count": 18,
   "metadata": {
    "collapsed": false
   },
   "outputs": [
    {
     "data": {
      "text/plain": [
       "-0.00012831280408036967"
      ]
     },
     "execution_count": 18,
     "metadata": {},
     "output_type": "execute_result"
    }
   ],
   "source": [
    "mbd.get_ts_energy('C', 'fermi2', xyz, C6, alpha_0, r_vdw=R_vdw, s_r=1., d=6., unit_cell=uc)"
   ]
  },
  {
   "cell_type": "code",
   "execution_count": 19,
   "metadata": {
    "collapsed": false
   },
   "outputs": [
    {
     "data": {
      "text/plain": [
       "(-0.00012876072750380823, -0.00012910173551943516)"
      ]
     },
     "execution_count": 19,
     "metadata": {},
     "output_type": "execute_result"
    }
   ],
   "source": [
    "(enes_supercell[-1], enes_periodic[-1])"
   ]
  },
  {
   "cell_type": "code",
   "execution_count": 20,
   "metadata": {
    "collapsed": false
   },
   "outputs": [],
   "source": [
    "mbd.param_mbd_supercell_cutoff = 30./bohr"
   ]
  },
  {
   "cell_type": "code",
   "execution_count": 21,
   "metadata": {
    "collapsed": false
   },
   "outputs": [
    {
     "data": {
      "text/plain": [
       "-0.00012911215759542675"
      ]
     },
     "execution_count": 21,
     "metadata": {},
     "output_type": "execute_result"
    }
   ],
   "source": [
    "mbd.get_supercell_mbd_energy('C', 'fermi,dip', xyz, alpha_0, omega, uc,\n",
    "                             r_vdw=R_vdw, beta=1., a=6.)[0]"
   ]
  },
  {
   "cell_type": "code",
   "execution_count": 22,
   "metadata": {
    "collapsed": false
   },
   "outputs": [
    {
     "data": {
      "text/plain": [
       "-0.00012911208071144723"
      ]
     },
     "execution_count": 22,
     "metadata": {},
     "output_type": "execute_result"
    }
   ],
   "source": [
    "mbd.get_supercell_mbd_energy('CQ', 'fermi,dip', xyz, alpha_0, omega, uc,\n",
    "                             r_vdw=R_vdw, beta=1., a=6.)[0]"
   ]
  },
  {
   "cell_type": "markdown",
   "metadata": {},
   "source": [
    "## Linear argon chain (2 atoms in cell)"
   ]
  },
  {
   "cell_type": "code",
   "execution_count": 23,
   "metadata": {
    "collapsed": false
   },
   "outputs": [],
   "source": [
    "species = ['Ar', 'Ar']\n",
    "xyz = [(0., 0., 0.), (4., 0., 0.)]/bohr\n",
    "uc = np.array([(8., 0., 0.), (0., 10., 0.), (0., 0., 10.)])/bohr\n",
    "mbd.param_vacuum_axis = (False, True, True)"
   ]
  },
  {
   "cell_type": "code",
   "execution_count": 24,
   "metadata": {
    "collapsed": false
   },
   "outputs": [],
   "source": [
    "alpha_0, C6, R_vdw = pymbd.get_free_atom_data(species)\n",
    "omega = mbd.omega_eff(C6, alpha_0)"
   ]
  },
  {
   "cell_type": "code",
   "execution_count": 25,
   "metadata": {
    "collapsed": false
   },
   "outputs": [],
   "source": [
    "k_grid = mbd.make_k_grid(mbd.make_g_grid(200, 1, 1), uc)"
   ]
  },
  {
   "cell_type": "code",
   "execution_count": 26,
   "metadata": {
    "collapsed": false
   },
   "outputs": [],
   "source": [
    "omegas = mbd.get_reciprocal_mbd_energy('REV', 'fermi,dip', xyz, alpha_0, omega, k_grid, uc,\n",
    "                                       r_vdw=R_vdw, beta=1., a=6.)[1]"
   ]
  },
  {
   "cell_type": "code",
   "execution_count": 27,
   "metadata": {
    "collapsed": false
   },
   "outputs": [
    {
     "data": {
      "text/plain": [
       "[<matplotlib.lines.Line2D at 0x113ea5b38>,\n",
       " <matplotlib.lines.Line2D at 0x113ea5eb8>,\n",
       " <matplotlib.lines.Line2D at 0x113e23710>,\n",
       " <matplotlib.lines.Line2D at 0x113e23eb8>,\n",
       " <matplotlib.lines.Line2D at 0x113e286a0>,\n",
       " <matplotlib.lines.Line2D at 0x113e28e48>,\n",
       " <matplotlib.lines.Line2D at 0x113e2f630>,\n",
       " <matplotlib.lines.Line2D at 0x113e2fdd8>,\n",
       " <matplotlib.lines.Line2D at 0x113e335c0>,\n",
       " <matplotlib.lines.Line2D at 0x113e33d68>,\n",
       " <matplotlib.lines.Line2D at 0x113e38550>,\n",
       " <matplotlib.lines.Line2D at 0x113e38cf8>]"
      ]
     },
     "execution_count": 27,
     "metadata": {},
     "output_type": "execute_result"
    },
    {
     "data": {
      "image/png": "[encoded data removed]",
      "text/plain": [
       "<matplotlib.figure.Figure at 0x112676fd0>"
      ]
     },
     "metadata": {},
     "output_type": "display_data"
    }
   ],
   "source": [
    "plt.plot(*chain.from_iterable((\n",
    "            *zip(*sorted(zip(k_grid[:, 0], omegas[:, i]))),\n",
    "            'b-',\n",
    "            *zip(*sorted(zip(k_grid[:, 0]+2*np.pi/8*bohr, omegas[:, i]))),\n",
    "            'b-'\n",
    "        ) for i in range(omegas.shape[1])))"
   ]
  },
  {
   "cell_type": "code",
   "execution_count": 28,
   "metadata": {
    "collapsed": false
   },
   "outputs": [],
   "source": [
    "ns_kpt = [4, 8, 12, 20, 40, 80]\n",
    "enes_periodic = []\n",
    "for n_kpt in ns_kpt:\n",
    "    k_grid = mbd.make_k_grid(mbd.make_g_grid(n_kpt, 1, 1), uc)\n",
    "    ene = mbd.get_reciprocal_mbd_energy('R', 'fermi,dip', xyz, alpha_0, omega, k_grid, uc,\n",
    "                                      r_vdw=R_vdw, beta=1., a=6.)[0]\n",
    "    enes_periodic.append(ene)"
   ]
  },
  {
   "cell_type": "code",
   "execution_count": 29,
   "metadata": {
    "collapsed": false
   },
   "outputs": [],
   "source": [
    "cutoffs = [8., 12., 25., 50., 100., 200., 400., 800.]\n",
    "enes_supercell = []\n",
    "for cutoff in cutoffs:\n",
    "    mbd.param_mbd_supercell_cutoff = cutoff/bohr\n",
    "    ene = mbd.get_supercell_mbd_energy('C', 'fermi,dip', xyz, alpha_0, omega, uc,\n",
    "                                       r_vdw=R_vdw, beta=1., a=6.)[0]\n",
    "    enes_supercell.append(ene)"
   ]
  },
  {
   "cell_type": "code",
   "execution_count": 30,
   "metadata": {
    "collapsed": false
   },
   "outputs": [
    {
     "data": {
      "text/plain": [
       "[<matplotlib.lines.Line2D at 0x114e1cef0>,\n",
       " <matplotlib.lines.Line2D at 0x114e222b0>]"
      ]
     },
     "execution_count": 30,
     "metadata": {},
     "output_type": "execute_result"
    },
    {
     "data": {
      "image/png": "[encoded data removed]",
      "text/plain": [
       "<matplotlib.figure.Figure at 0x1127a8588>"
      ]
     },
     "metadata": {},
     "output_type": "display_data"
    }
   ],
   "source": [
    "plt.plot(cutoffs, enes_supercell, 'b',\n",
    "         10*np.array(ns_kpt), enes_periodic, 'r')"
   ]
  },
  {
   "cell_type": "code",
   "execution_count": 35,
   "metadata": {
    "collapsed": false
   },
   "outputs": [
    {
     "data": {
      "text/plain": [
       "-0.00012831280408036967"
      ]
     },
     "execution_count": 35,
     "metadata": {},
     "output_type": "execute_result"
    }
   ],
   "source": [
    "mbd.get_ts_energy('C', 'fermi2', xyz, C6, alpha_0, r_vdw=R_vdw, s_r=1., d=6., unit_cell=uc)/2"
   ]
  },
  {
   "cell_type": "code",
   "execution_count": 36,
   "metadata": {
    "collapsed": false
   },
   "outputs": [
    {
     "data": {
      "text/plain": [
       "(-0.00012876157578458713, -0.0001291017361350788)"
      ]
     },
     "execution_count": 36,
     "metadata": {},
     "output_type": "execute_result"
    }
   ],
   "source": [
    "(enes_supercell[-1]/2, enes_periodic[-1]/2)"
   ]
  },
  {
   "cell_type": "markdown",
   "metadata": {},
   "source": [
    "## Two parallel argon chains"
   ]
  },
  {
   "cell_type": "code",
   "execution_count": 37,
   "metadata": {
    "collapsed": true
   },
   "outputs": [],
   "source": [
    "species = ['Ar', 'Ar']\n",
    "xyz = [(0., 0., 0.), (0., 0., 4.)]/bohr\n",
    "uc = np.array([(4., 0., 0.), (0., 10., 0.), (0., 0., 10.)])/bohr\n",
    "mbd.param_vacuum_axis = (False, True, True)"
   ]
  },
  {
   "cell_type": "code",
   "execution_count": 38,
   "metadata": {
    "collapsed": false
   },
   "outputs": [],
   "source": [
    "alpha_0, C6, R_vdw = pymbd.get_free_atom_data(species)\n",
    "omega = mbd.omega_eff(C6, alpha_0)"
   ]
  },
  {
   "cell_type": "code",
   "execution_count": 39,
   "metadata": {
    "collapsed": false
   },
   "outputs": [],
   "source": [
    "k_grid = mbd.make_k_grid(mbd.make_g_grid(200, 1, 1), uc)"
   ]
  },
  {
   "cell_type": "code",
   "execution_count": 40,
   "metadata": {
    "collapsed": false
   },
   "outputs": [],
   "source": [
    "omegas = mbd.get_reciprocal_mbd_energy('REV', 'fermi,dip', xyz, alpha_0, omega, k_grid, uc,\n",
    "                                       r_vdw=R_vdw, beta=1., a=6.)[1]"
   ]
  },
  {
   "cell_type": "code",
   "execution_count": 41,
   "metadata": {
    "collapsed": false
   },
   "outputs": [
    {
     "data": {
      "text/plain": [
       "[<matplotlib.lines.Line2D at 0x114dcb898>,\n",
       " <matplotlib.lines.Line2D at 0x114dcbc18>,\n",
       " <matplotlib.lines.Line2D at 0x114dd4470>,\n",
       " <matplotlib.lines.Line2D at 0x114dd4c18>,\n",
       " <matplotlib.lines.Line2D at 0x114dd9400>,\n",
       " <matplotlib.lines.Line2D at 0x114dd9ba8>]"
      ]
     },
     "execution_count": 41,
     "metadata": {},
     "output_type": "execute_result"
    },
    {
     "data": {
      "image/png": "[encoded data removed]",
      "text/plain": [
       "<matplotlib.figure.Figure at 0x113e54160>"
      ]
     },
     "metadata": {},
     "output_type": "display_data"
    }
   ],
   "source": [
    "plt.plot(*chain.from_iterable((*zip(*sorted(zip(k_grid[:, 0], omegas[:, i]))), 'b-') for i in range(omegas.shape[1])))"
   ]
  },
  {
   "cell_type": "code",
   "execution_count": 42,
   "metadata": {
    "collapsed": false
   },
   "outputs": [],
   "source": [
    "ns_kpt = [4, 8, 12, 20, 40, 80]\n",
    "enes_periodic = []\n",
    "for n_kpt in ns_kpt:\n",
    "    k_grid = mbd.make_k_grid(mbd.make_g_grid(n_kpt, 1, 1), uc)\n",
    "    ene = mbd.get_reciprocal_mbd_energy('R', 'fermi,dip', xyz, alpha_0, omega, k_grid, uc,\n",
    "                                      r_vdw=R_vdw, beta=1., a=6.)[0]\n",
    "    enes_periodic.append(ene)"
   ]
  },
  {
   "cell_type": "code",
   "execution_count": 43,
   "metadata": {
    "collapsed": false
   },
   "outputs": [],
   "source": [
    "cutoffs = [8., 12., 25., 50., 100., 200., 400., 800.]\n",
    "enes_supercell = []\n",
    "for cutoff in cutoffs:\n",
    "    mbd.param_mbd_supercell_cutoff = cutoff/bohr\n",
    "    ene = mbd.get_supercell_mbd_energy('C', 'fermi,dip', xyz, alpha_0, omega, uc,\n",
    "                                       r_vdw=R_vdw, beta=1., a=6.)[0]\n",
    "    enes_supercell.append(ene)"
   ]
  },
  {
   "cell_type": "code",
   "execution_count": 44,
   "metadata": {
    "collapsed": false
   },
   "outputs": [
    {
     "data": {
      "text/plain": [
       "[<matplotlib.lines.Line2D at 0x115032438>,\n",
       " <matplotlib.lines.Line2D at 0x1150327b8>]"
      ]
     },
     "execution_count": 44,
     "metadata": {},
     "output_type": "execute_result"
    },
    {
     "data": {
      "image/png": "[encoded data removed]",
      "text/plain": [
       "<matplotlib.figure.Figure at 0x114e73ba8>"
      ]
     },
     "metadata": {},
     "output_type": "display_data"
    }
   ],
   "source": [
    "plt.plot(cutoffs, enes_supercell, 'b',\n",
    "         [10*x for x in ns_kpt], enes_periodic, 'r')"
   ]
  },
  {
   "cell_type": "code",
   "execution_count": 47,
   "metadata": {
    "collapsed": false
   },
   "outputs": [
    {
     "data": {
      "text/plain": [
       "-0.0004638232304148753"
      ]
     },
     "execution_count": 47,
     "metadata": {},
     "output_type": "execute_result"
    }
   ],
   "source": [
    "mbd.get_ts_energy('C', 'fermi2', xyz, C6, alpha_0, r_vdw=R_vdw, s_r=1., d=6., unit_cell=uc)"
   ]
  },
  {
   "cell_type": "code",
   "execution_count": 46,
   "metadata": {
    "collapsed": false
   },
   "outputs": [
    {
     "data": {
      "text/plain": [
       "(-0.00046178019702584465, -0.00046268670236608854)"
      ]
     },
     "execution_count": 46,
     "metadata": {},
     "output_type": "execute_result"
    }
   ],
   "source": [
    "(enes_supercell[-1], enes_periodic[-1])"
   ]
  },
  {
   "cell_type": "markdown",
   "metadata": {},
   "source": [
    "## Argon crystal"
   ]
  },
  {
   "cell_type": "code",
   "execution_count": 48,
   "metadata": {
    "collapsed": false
   },
   "outputs": [],
   "source": [
    "species = ['Ar']\n",
    "xyz = [(0., 0., 0.)]/bohr\n",
    "uc = np.array([(4., 0., 0.), (0., 4., 0.), (0., 0., 4.)])/bohr\n",
    "mbd.param_vacuum_axis = (False, False, False)"
   ]
  },
  {
   "cell_type": "code",
   "execution_count": 49,
   "metadata": {
    "collapsed": false
   },
   "outputs": [],
   "source": [
    "alpha_0, C6, R_vdw = pymbd.get_free_atom_data(species)\n",
    "omega = mbd.omega_eff(C6, alpha_0)"
   ]
  },
  {
   "cell_type": "code",
   "execution_count": 50,
   "metadata": {
    "collapsed": false
   },
   "outputs": [],
   "source": [
    "k_grid = mbd.make_k_grid(mbd.make_g_grid(200, 1, 1), uc)"
   ]
  },
  {
   "cell_type": "code",
   "execution_count": 51,
   "metadata": {
    "collapsed": false
   },
   "outputs": [],
   "source": [
    "omegas = mbd.get_reciprocal_mbd_energy('REV', 'fermi,dip', xyz, alpha_0, omega, k_grid, uc,\n",
    "                                       r_vdw=R_vdw, beta=1., a=6.)[1]"
   ]
  },
  {
   "cell_type": "code",
   "execution_count": 52,
   "metadata": {
    "collapsed": false
   },
   "outputs": [
    {
     "data": {
      "text/plain": [
       "[<matplotlib.lines.Line2D at 0x114fc4cf8>,\n",
       " <matplotlib.lines.Line2D at 0x114fcb0b8>,\n",
       " <matplotlib.lines.Line2D at 0x114fcb8d0>]"
      ]
     },
     "execution_count": 52,
     "metadata": {},
     "output_type": "execute_result"
    },
    {
     "data": {
      "image/png": "[encoded data removed]",
      "text/plain": [
       "<matplotlib.figure.Figure at 0x114e27518>"
      ]
     },
     "metadata": {},
     "output_type": "display_data"
    }
   ],
   "source": [
    "plt.plot(*chain.from_iterable((*zip(*sorted(zip(k_grid[:, 0], omegas[:, i]))), 'b-') for i in range(omegas.shape[1])))"
   ]
  },
  {
   "cell_type": "code",
   "execution_count": 53,
   "metadata": {
    "collapsed": false
   },
   "outputs": [],
   "source": [
    "ns_kpt = [3, 4, 5, 6, 7, 8]\n",
    "enes_periodic = []\n",
    "for n_kpt in ns_kpt:\n",
    "    k_grid = mbd.make_k_grid(mbd.make_g_grid(n_kpt, n_kpt, n_kpt), uc)+0.01\n",
    "    ene = mbd.get_reciprocal_mbd_energy('R', 'fermi,dip', xyz, alpha_0, omega, k_grid, uc,\n",
    "                                      r_vdw=R_vdw, beta=1., a=6.)[0]\n",
    "    enes_periodic.append(ene)"
   ]
  },
  {
   "cell_type": "code",
   "execution_count": 54,
   "metadata": {
    "collapsed": false
   },
   "outputs": [],
   "source": [
    "mbd.param_dipole_rec_space_cutoff = 0.15\n",
    "mbd.param_ewald_alpha = 0.002\n",
    "mbd.param_dipole_real_space_cutoff = 200"
   ]
  },
  {
   "cell_type": "code",
   "execution_count": 55,
   "metadata": {
    "collapsed": false
   },
   "outputs": [],
   "source": [
    "cutoffs = [8., 12., 16., 20.]\n",
    "enes_supercell = []\n",
    "for cutoff in cutoffs:\n",
    "    mbd.param_mbd_supercell_cutoff = cutoff/bohr\n",
    "    ene = mbd.get_supercell_mbd_energy('C', 'fermi,dip', xyz, alpha_0, omega, uc,\n",
    "                                       r_vdw=R_vdw, beta=1., a=6.)[0]\n",
    "    enes_supercell.append(ene)"
   ]
  },
  {
   "cell_type": "code",
   "execution_count": 56,
   "metadata": {
    "collapsed": false
   },
   "outputs": [],
   "source": [
    "mbd.param_dipole_rec_space_cutoff = 5\n",
    "mbd.param_ewald_alpha = 0.3\n",
    "mbd.param_dipole_real_space_cutoff = 90"
   ]
  },
  {
   "cell_type": "code",
   "execution_count": 57,
   "metadata": {
    "collapsed": false
   },
   "outputs": [
    {
     "data": {
      "text/plain": [
       "[<matplotlib.lines.Line2D at 0x1130115f8>,\n",
       " <matplotlib.lines.Line2D at 0x113011978>]"
      ]
     },
     "execution_count": 57,
     "metadata": {},
     "output_type": "execute_result"
    },
    {
     "data": {
      "image/png": "[encoded data removed]",
      "text/plain": [
       "<matplotlib.figure.Figure at 0x114fd1b38>"
      ]
     },
     "metadata": {},
     "output_type": "display_data"
    }
   ],
   "source": [
    "plt.plot(cutoffs, enes_supercell, 'b',\n",
    "         [2*x for x in ns_kpt], enes_periodic, 'r')"
   ]
  },
  {
   "cell_type": "code",
   "execution_count": 58,
   "metadata": {
    "collapsed": false
   },
   "outputs": [
    {
     "data": {
      "text/plain": [
       "-0.0007571292369630357"
      ]
     },
     "execution_count": 58,
     "metadata": {},
     "output_type": "execute_result"
    }
   ],
   "source": [
    "mbd.get_ts_energy('C', 'fermi2', xyz, C6, alpha_0, r_vdw=R_vdw, s_r=1., d=6., unit_cell=uc)"
   ]
  },
  {
   "cell_type": "markdown",
   "metadata": {},
   "source": [
    "## Graphene"
   ]
  },
  {
   "cell_type": "code",
   "execution_count": 59,
   "metadata": {
    "collapsed": true
   },
   "outputs": [],
   "source": [
    "species = ['C', 'C']\n",
    "xyz = [(0., 0., 0.), (2.46000413, 1.42034734, 0.)]/bohr\n",
    "uc = np.array([\n",
    "    (2.45999892, 0.00000000, 0.00000000),\n",
    "    (1.22999946, 2.13042155, 0.00000000),\n",
    "    (0.00000000, 0.00000000, 100.00000000)])/bohr\n",
    "mbd.param_vacuum_axis = (False, False, True)"
   ]
  },
  {
   "cell_type": "code",
   "execution_count": 60,
   "metadata": {
    "collapsed": false
   },
   "outputs": [],
   "source": [
    "alpha_0, C6, R_vdw = pymbd.get_free_atom_data(species)\n",
    "omega = mbd.omega_eff(C6, alpha_0)"
   ]
  },
  {
   "cell_type": "code",
   "execution_count": 61,
   "metadata": {
    "collapsed": false
   },
   "outputs": [],
   "source": [
    "k_grid = mbd.make_k_grid(mbd.make_g_grid(200, 1, 1), uc)"
   ]
  },
  {
   "cell_type": "code",
   "execution_count": 62,
   "metadata": {
    "collapsed": false
   },
   "outputs": [],
   "source": [
    "omegas = mbd.get_reciprocal_mbd_energy('REV', 'fermi,dip', xyz, alpha_0, omega, k_grid, uc,\n",
    "                                       r_vdw=R_vdw, beta=1., a=6.)[1]"
   ]
  },
  {
   "cell_type": "code",
   "execution_count": 63,
   "metadata": {
    "collapsed": false
   },
   "outputs": [
    {
     "data": {
      "text/plain": [
       "[<matplotlib.lines.Line2D at 0x1135d3860>,\n",
       " <matplotlib.lines.Line2D at 0x1135d3be0>,\n",
       " <matplotlib.lines.Line2D at 0x1135d9438>,\n",
       " <matplotlib.lines.Line2D at 0x1135d9be0>,\n",
       " <matplotlib.lines.Line2D at 0x1135e03c8>,\n",
       " <matplotlib.lines.Line2D at 0x1135e0b70>]"
      ]
     },
     "execution_count": 63,
     "metadata": {},
     "output_type": "execute_result"
    },
    {
     "data": {
      "image/png": "[encoded data removed]",
      "text/plain": [
       "<matplotlib.figure.Figure at 0x1130251d0>"
      ]
     },
     "metadata": {},
     "output_type": "display_data"
    }
   ],
   "source": [
    "plt.plot(*chain.from_iterable((*zip(*sorted(zip(k_grid[:, 0], omegas[:, i]))), 'b-') for i in range(omegas.shape[1])))"
   ]
  },
  {
   "cell_type": "code",
   "execution_count": 64,
   "metadata": {
    "collapsed": false
   },
   "outputs": [],
   "source": [
    "ns_kpt = [4, 6, 8, 10, 15, 20, 30]\n",
    "enes_periodic = []\n",
    "for n_kpt in ns_kpt:\n",
    "    k_grid = mbd.make_k_grid(mbd.make_g_grid(n_kpt, n_kpt, 1), uc)\n",
    "    ene = mbd.get_reciprocal_mbd_energy('R', 'fermi,dip', xyz, alpha_0, omega, k_grid, uc,\n",
    "                                      r_vdw=R_vdw, beta=1., a=6.)[0]\n",
    "    enes_periodic.append(ene)"
   ]
  },
  {
   "cell_type": "code",
   "execution_count": 69,
   "metadata": {
    "collapsed": false
   },
   "outputs": [],
   "source": [
    "cutoffs = [8., 12., 16., 20.]\n",
    "enes_supercell = []\n",
    "for cutoff in cutoffs:\n",
    "    mbd.param_mbd_supercell_cutoff = cutoff/bohr\n",
    "    ene = mbd.get_supercell_mbd_energy('C', 'fermi,dip', xyz, alpha_0, omega, uc,\n",
    "                                       r_vdw=R_vdw, beta=1., a=6.)[0]\n",
    "    enes_supercell.append(ene)"
   ]
  },
  {
   "cell_type": "code",
   "execution_count": 70,
   "metadata": {
    "collapsed": false
   },
   "outputs": [
    {
     "data": {
      "text/plain": [
       "[<matplotlib.lines.Line2D at 0x11318b160>,\n",
       " <matplotlib.lines.Line2D at 0x11318b4e0>]"
      ]
     },
     "execution_count": 70,
     "metadata": {},
     "output_type": "execute_result"
    },
    {
     "data": {
      "image/png": "[encoded data removed]",
      "text/plain": [
       "<matplotlib.figure.Figure at 0x1139a71d0>"
      ]
     },
     "metadata": {},
     "output_type": "display_data"
    }
   ],
   "source": [
    "plt.plot(cutoffs, enes_supercell, 'b',\n",
    "         [x for x in ns_kpt], enes_periodic, 'r')"
   ]
  }
 ],
 "metadata": {
  "kernelspec": {
   "display_name": "Python 3",
   "language": "python",
   "name": "python3"
  },
  "language_info": {
   "codemirror_mode": {
    "name": "ipython",
    "version": 3
   },
   "file_extension": ".py",
   "mimetype": "text/x-python",
   "name": "python",
   "nbconvert_exporter": "python",
   "pygments_lexer": "ipython3",
   "version": "3.5.0"
  }
 },
 "nbformat": 4,
 "nbformat_minor": 0
}
