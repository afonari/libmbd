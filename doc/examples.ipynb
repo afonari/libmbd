{
 "cells": [
  {
   "cell_type": "code",
   "execution_count": 1,
   "metadata": {},
   "outputs": [],
   "source": [
    "import numpy as np\n",
    "import pymbd as pymbd\n",
    "\n",
    "bohr = pymbd.bohr\n",
    "# initialize the frequency grid to 20 points\n",
    "pymbd.lib.init_grid(20)"
   ]
  },
  {
   "cell_type": "markdown",
   "metadata": {},
   "source": [
    "## Benzene dimer"
   ]
  },
  {
   "cell_type": "code",
   "execution_count": 2,
   "metadata": {
    "collapsed": true
   },
   "outputs": [],
   "source": [
    "bz2_xyz = \"\"\"\n",
    "24\n",
    "Formula: C12H12\n",
    " C     -1.04782520     -1.42167360      0.00000000\n",
    " C     -1.45450340     -0.85544590      1.20620480\n",
    " C     -1.45450340     -0.85544590     -1.20620480\n",
    " C     -2.26679700      0.27716100      1.20695390\n",
    " C     -2.67147810      0.84502110      0.00000000\n",
    " C     -2.26679700      0.27716100     -1.20695390\n",
    " H     -1.13385340     -1.29205930     -2.14231500\n",
    " H     -2.58249430      0.71630660     -2.14379770\n",
    " H     -3.30304220      1.72327000      0.00000000\n",
    " H     -2.58249430      0.71630660      2.14379770\n",
    " H     -1.13385340     -1.29205930      2.14231500\n",
    " H     -0.40602530     -2.29190490      0.00000000\n",
    " C      1.04782520      1.42167360      0.00000000\n",
    " C      1.45450340      0.85544590     -1.20620480\n",
    " C      1.45450340      0.85544590      1.20620480\n",
    " C      2.26679700     -0.27716100     -1.20695390\n",
    " C      2.67147810     -0.84502110      0.00000000\n",
    " C      2.26679700     -0.27716100      1.20695390\n",
    " H      0.40602530      2.29190490      0.00000000\n",
    " H      1.13385340      1.29205930      2.14231500\n",
    " H      2.58249430     -0.71630660      2.14379770\n",
    " H      3.30304220     -1.72327000      0.00000000\n",
    " H      2.58249430     -0.71630660     -2.14379770\n",
    " H      1.13385340      1.29205930     -2.14231500\n",
    "\"\"\".strip()"
   ]
  },
  {
   "cell_type": "code",
   "execution_count": 3,
   "metadata": {
    "collapsed": true
   },
   "outputs": [],
   "source": [
    "# create a list of species and coordinates in atomic units\n",
    "f = (l for l in bz2_xyz.split('\\n'))\n",
    "n = int(next(f))\n",
    "next(f)\n",
    "species = []\n",
    "coords = []\n",
    "for _ in range(n):\n",
    "    words = next(f).split()\n",
    "    species.append(words[0])\n",
    "    coords.append([float(x) for x in words[1:4]])\n",
    "coords = np.array(coords)/bohr"
   ]
  },
  {
   "cell_type": "code",
   "execution_count": 4,
   "metadata": {},
   "outputs": [
    {
     "data": {
      "text/plain": [
       "-0.0232342119186022"
      ]
     },
     "execution_count": 4,
     "metadata": {},
     "output_type": "execute_result"
    }
   ],
   "source": [
    "pymbd.mbd_rsscs(\n",
    "    coords,  # N x 3 matrix of coordinates\n",
    "    species,  # N vector of species\n",
    "    0.8*np.ones(len(coords)),  #  N vector of Hirshfeld volume ratios\n",
    "    0.83  # damping parameter beta\n",
    ")"
   ]
  },
  {
   "cell_type": "markdown",
   "metadata": {},
   "source": [
    "## Amonia crystal"
   ]
  },
  {
   "cell_type": "code",
   "execution_count": 5,
   "metadata": {
    "collapsed": true
   },
   "outputs": [],
   "source": [
    "# the fifth column contains Hirshfeld volumes from a DFT calculation\n",
    "am_geom = \"\"\"\n",
    "16\n",
    "  4.9621636999999996  0.0000000000000000  0.0000000000000000\n",
    "  0.0000000000000000  4.9621636999999996  0.0000000000000000\n",
    "  0.0000000000000000  0.0000000000000000  4.9621636999999996\n",
    "H\t1.8596\t1.3558\t0.5232\t0.731657\n",
    "H\t1.3558\t0.5232\t1.8596\t0.731657\n",
    "H\t0.5232\t1.8596\t1.3558\t0.731657\n",
    "H\t4.3407\t1.1253\t4.439\t0.731657\n",
    "H\t3.8368\t1.9579\t3.1025\t0.731657\n",
    "H\t3.0043\t0.6214\t3.6064\t0.731657\n",
    "H\t3.6064\t3.0043\t0.6214\t0.731657\n",
    "H\t4.439\t4.3407\t1.1253\t0.731657\n",
    "H\t1.9579\t3.1025\t3.8368\t0.731657\n",
    "H\t0.6214\t3.6064\t3.0043\t0.731657\n",
    "H\t1.1253\t4.439\t4.3407\t0.731657\n",
    "H\t3.1025\t3.8368\t1.9579\t0.731657\n",
    "N\t1.0342\t1.0342\t1.0342\t0.838337\n",
    "N\t3.5152\t1.4469\t3.928\t0.838337\n",
    "N\t3.928\t3.5152\t1.4469\t0.838337\n",
    "N\t1.4469\t3.928\t3.5152\t0.838337\n",
    "\"\"\".strip()"
   ]
  },
  {
   "cell_type": "code",
   "execution_count": 6,
   "metadata": {
    "collapsed": true
   },
   "outputs": [],
   "source": [
    "f = (l for l in am_geom.split('\\n'))\n",
    "n = int(next(f))\n",
    "lattice = []\n",
    "for _ in range(3):\n",
    "    words = next(f).split()\n",
    "    lattice.append([float(x) for x in words])\n",
    "species = []\n",
    "coords = []\n",
    "volumes = []\n",
    "for _ in range(n):\n",
    "    words = next(f).split()\n",
    "    species.append(words[0])\n",
    "    coords.append([float(x) for x in words[1:4]])\n",
    "    volumes.append(float(words[4]))\n",
    "coords = np.array(coords)/bohr\n",
    "volumes = np.array(volumes)"
   ]
  },
  {
   "cell_type": "code",
   "execution_count": 7,
   "metadata": {},
   "outputs": [
    {
     "data": {
      "text/plain": [
       "-0.4813682617018039"
      ]
     },
     "execution_count": 7,
     "metadata": {},
     "output_type": "execute_result"
    }
   ],
   "source": [
    "pymbd.mbd_rsscs(\n",
    "    coords,\n",
    "    species,\n",
    "    volumes,\n",
    "    0.83,\n",
    "    lattice=lattice,  # lattice vectors\n",
    "    k_grid=(5, 5, 5)  # 5x5x5 k-point grid\n",
    ")"
   ]
  }
 ],
 "metadata": {
  "kernelspec": {
   "display_name": "Python 3",
   "language": "python",
   "name": "python3"
  },
  "language_info": {
   "codemirror_mode": {
    "name": "ipython",
    "version": 3
   },
   "file_extension": ".py",
   "mimetype": "text/x-python",
   "name": "python",
   "nbconvert_exporter": "python",
   "pygments_lexer": "ipython3",
   "version": "3.6.0"
  }
 },
 "nbformat": 4,
 "nbformat_minor": 1
}
